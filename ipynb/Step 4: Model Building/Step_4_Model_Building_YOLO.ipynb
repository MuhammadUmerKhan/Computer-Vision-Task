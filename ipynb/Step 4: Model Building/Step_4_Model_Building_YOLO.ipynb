{
  "nbformat": 4,
  "nbformat_minor": 0,
  "metadata": {
    "colab": {
      "provenance": [],
      "gpuType": "T4"
    },
    "kernelspec": {
      "name": "python3",
      "display_name": "Python 3"
    },
    "language_info": {
      "name": "python"
    },
    "accelerator": "GPU"
  },
  "cells": [
    {
      "cell_type": "code",
      "source": [
        "!unzip Yolo__Data.zip"
      ],
      "metadata": {
        "colab": {
          "base_uri": "https://localhost:8080/"
        },
        "id": "zGQ0LLqKYc8b",
        "outputId": "052e7b95-4483-40f0-c5be-1077f9761ac0"
      },
      "execution_count": null,
      "outputs": [
        {
          "output_type": "stream",
          "name": "stdout",
          "text": [
            "Archive:  Yolo__Data.zip\n",
            "   creating: Yolo__Data/\n",
            "   creating: Yolo__Data/train/\n",
            "  inflating: Yolo__Data/train/1_Renew_Licenced_Small_1_2022.png  \n",
            "  inflating: Yolo__Data/train/1_Renew_Licenced_Small_1_2022.txt  \n",
            "  inflating: Yolo__Data/train/1010_Expired_Notified_Building_1_2023.png  \n",
            "  inflating: Yolo__Data/train/1010_Expired_Notified_Building_1_2023.txt  \n",
            "  inflating: Yolo__Data/train/1011_Expired_Notified_Building_1_2016.png  \n",
            "  inflating: Yolo__Data/train/1011_Expired_Notified_Building_1_2016.txt  \n",
            "  inflating: Yolo__Data/train/1032_Expired_Notified_Building_1_2018.png  \n",
            "  inflating: Yolo__Data/train/1032_Expired_Notified_Building_1_2018.txt  \n",
            "  inflating: Yolo__Data/train/1033_Expired_Notified_Building_1_2020.png  \n",
            "  inflating: Yolo__Data/train/1033_Expired_Notified_Building_1_2020.txt  \n",
            "  inflating: Yolo__Data/train/1039_Expired_Notified_Building_1_2014.png  \n",
            "  inflating: Yolo__Data/train/1039_Expired_Notified_Building_1_2014.txt  \n",
            "  inflating: Yolo__Data/train/106_Renew_Licenced_Building_1_2021.png  \n",
            "  inflating: Yolo__Data/train/106_Renew_Licenced_Building_1_2021.txt  \n",
            "  inflating: Yolo__Data/train/1060_Expired_Notified_Building_1_2022.png  \n",
            "  inflating: Yolo__Data/train/1060_Expired_Notified_Building_1_2022.txt  \n",
            "  inflating: Yolo__Data/train/1072_licenced_Building_1_2020.png  \n",
            "  inflating: Yolo__Data/train/1072_licenced_Building_1_2020.txt  \n",
            "  inflating: Yolo__Data/train/1082_licenced_Building_1_2021.png  \n",
            "  inflating: Yolo__Data/train/1082_licenced_Building_1_2021.txt  \n",
            "  inflating: Yolo__Data/train/1084_Expired_Notified_Building_1_2020.png  \n",
            "  inflating: Yolo__Data/train/1084_Expired_Notified_Building_1_2020.txt  \n",
            "  inflating: Yolo__Data/train/1089_Expired_Notified_Building_1_2016.png  \n",
            "  inflating: Yolo__Data/train/1089_Expired_Notified_Building_1_2016.txt  \n",
            "  inflating: Yolo__Data/train/1098_licenced_Building_1_2015.png  \n",
            "  inflating: Yolo__Data/train/1098_licenced_Building_1_2015.txt  \n",
            "  inflating: Yolo__Data/train/1106_licenced_Building_1_2016.png  \n",
            "  inflating: Yolo__Data/train/1106_licenced_Building_1_2016.txt  \n",
            "  inflating: Yolo__Data/train/1109_Expired_Notified_Building_1_2021.png  \n",
            "  inflating: Yolo__Data/train/1109_Expired_Notified_Building_1_2021.txt  \n",
            "  inflating: Yolo__Data/train/1134_Expired_Notified_Building_1_2018.png  \n",
            "  inflating: Yolo__Data/train/1134_Expired_Notified_Building_1_2018.txt  \n",
            "  inflating: Yolo__Data/train/1137_Expired_Notified_Building_1_2023.png  \n",
            "  inflating: Yolo__Data/train/1137_Expired_Notified_Building_1_2023.txt  \n",
            "  inflating: Yolo__Data/train/1148_Expired_Notified_Building_1_2022.png  \n",
            "  inflating: Yolo__Data/train/1148_Expired_Notified_Building_1_2022.txt  \n",
            "  inflating: Yolo__Data/train/1150_licenced_Building_1_2014.png  \n",
            "  inflating: Yolo__Data/train/1150_licenced_Building_1_2014.txt  \n",
            "  inflating: Yolo__Data/train/119_licenced_Building_1_2014.png  \n",
            "  inflating: Yolo__Data/train/119_licenced_Building_1_2014.txt  \n",
            "  inflating: Yolo__Data/train/1198_licenced_Building_1_2022.png  \n",
            "  inflating: Yolo__Data/train/1198_licenced_Building_1_2022.txt  \n",
            "  inflating: Yolo__Data/train/12_licenced_Small_1_2023.png  \n",
            "  inflating: Yolo__Data/train/12_licenced_Small_1_2023.txt  \n",
            "  inflating: Yolo__Data/train/1207_Expired_Notified_Building_1_2014.png  \n",
            "  inflating: Yolo__Data/train/1207_Expired_Notified_Building_1_2014.txt  \n",
            "  inflating: Yolo__Data/train/1210_licenced_Building_1_2020.png  \n",
            "  inflating: Yolo__Data/train/1210_licenced_Building_1_2020.txt  \n",
            "  inflating: Yolo__Data/train/1213_Expired_Notified_Building_1_2017.png  \n",
            "  inflating: Yolo__Data/train/1213_Expired_Notified_Building_1_2017.txt  \n",
            "  inflating: Yolo__Data/train/1213_licenced_Building_1_2022.png  \n",
            "  inflating: Yolo__Data/train/1213_licenced_Building_1_2022.txt  \n",
            "  inflating: Yolo__Data/train/1219_Expired_Notified_Building_1_2016.png  \n",
            "  inflating: Yolo__Data/train/1219_Expired_Notified_Building_1_2016.txt  \n",
            "  inflating: Yolo__Data/train/1219_Expired_Notified_Building_1_2019.png  \n",
            "  inflating: Yolo__Data/train/1219_Expired_Notified_Building_1_2019.txt  \n",
            "  inflating: Yolo__Data/train/1222_Expired_Notified_Building_1_2022.png  \n",
            "  inflating: Yolo__Data/train/1222_Expired_Notified_Building_1_2022.txt  \n",
            "  inflating: Yolo__Data/train/1224_Expired_Notified_Building_1_2017.png  \n",
            "  inflating: Yolo__Data/train/1224_Expired_Notified_Building_1_2017.txt  \n",
            "  inflating: Yolo__Data/train/1262_Expired_Notified_Building_1_2023.png  \n",
            "  inflating: Yolo__Data/train/1262_Expired_Notified_Building_1_2023.txt  \n",
            "  inflating: Yolo__Data/train/1266_Expired_Notified_Building_1_2023.png  \n",
            "  inflating: Yolo__Data/train/1266_Expired_Notified_Building_1_2023.txt  \n",
            "  inflating: Yolo__Data/train/1268_Expired_Notified_Building_1_2015.png  \n",
            "  inflating: Yolo__Data/train/1268_Expired_Notified_Building_1_2015.txt  \n",
            "  inflating: Yolo__Data/train/1275_Expired_Notified_Building_1_2021.png  \n",
            "  inflating: Yolo__Data/train/1275_Expired_Notified_Building_1_2021.txt  \n",
            "  inflating: Yolo__Data/train/1279_licenced_Building_1_2016.png  \n",
            "  inflating: Yolo__Data/train/1279_licenced_Building_1_2016.txt  \n",
            "  inflating: Yolo__Data/train/1280_Expired_Notified_Building_1_2019.png  \n",
            "  inflating: Yolo__Data/train/1280_Expired_Notified_Building_1_2019.txt  \n",
            "  inflating: Yolo__Data/train/1282_Expired_Notified_Building_1_2017.png  \n",
            "  inflating: Yolo__Data/train/1282_Expired_Notified_Building_1_2017.txt  \n",
            "  inflating: Yolo__Data/train/130_Renew_Licenced_Building_1_2021.png  \n",
            "  inflating: Yolo__Data/train/130_Renew_Licenced_Building_1_2021.txt  \n",
            "  inflating: Yolo__Data/train/1313_licenced_Building_1_2023.png  \n",
            "  inflating: Yolo__Data/train/1313_licenced_Building_1_2023.txt  \n",
            "  inflating: Yolo__Data/train/1315_licenced_Building_1_2016.png  \n",
            "  inflating: Yolo__Data/train/1315_licenced_Building_1_2016.txt  \n",
            "  inflating: Yolo__Data/train/1322_Expired_Notified_Building_1_2020.png  \n",
            "  inflating: Yolo__Data/train/1322_Expired_Notified_Building_1_2020.txt  \n",
            "  inflating: Yolo__Data/train/1333_Expired_Notified_Building_1_2022.png  \n",
            "  inflating: Yolo__Data/train/1333_Expired_Notified_Building_1_2022.txt  \n",
            "  inflating: Yolo__Data/train/1334_Expired_Notified_Building_1_2016.png  \n",
            "  inflating: Yolo__Data/train/1334_Expired_Notified_Building_1_2016.txt  \n",
            "  inflating: Yolo__Data/train/1347_licenced_Building_1_2018.png  \n",
            "  inflating: Yolo__Data/train/1347_licenced_Building_1_2018.txt  \n",
            "  inflating: Yolo__Data/train/135_licenced_Building_1_2022.png  \n",
            "  inflating: Yolo__Data/train/135_licenced_Building_1_2022.txt  \n",
            "  inflating: Yolo__Data/train/1362_Expired_Notified_Building_1_2015.png  \n",
            "  inflating: Yolo__Data/train/1362_Expired_Notified_Building_1_2015.txt  \n",
            "  inflating: Yolo__Data/train/1371_Expired_Notified_Building_1_2018.png  \n",
            "  inflating: Yolo__Data/train/1371_Expired_Notified_Building_1_2018.txt  \n",
            "  inflating: Yolo__Data/train/1372_Expired_Notified_Building_1_2023.png  \n",
            "  inflating: Yolo__Data/train/1372_Expired_Notified_Building_1_2023.txt  \n",
            "  inflating: Yolo__Data/train/1393_licenced_Building_1_2023.png  \n",
            "  inflating: Yolo__Data/train/1393_licenced_Building_1_2023.txt  \n",
            "  inflating: Yolo__Data/train/1436_Expired_Notified_Building_1_2023.png  \n",
            "  inflating: Yolo__Data/train/1436_Expired_Notified_Building_1_2023.txt  \n",
            "  inflating: Yolo__Data/train/1448_licenced_Building_1_2022.png  \n",
            "  inflating: Yolo__Data/train/1448_licenced_Building_1_2022.txt  \n",
            "  inflating: Yolo__Data/train/1451_licenced_Building_1_2022.png  \n",
            "  inflating: Yolo__Data/train/1451_licenced_Building_1_2022.txt  \n",
            "  inflating: Yolo__Data/train/1474_Expired_Notified_Building_1_2015.png  \n",
            "  inflating: Yolo__Data/train/1474_Expired_Notified_Building_1_2015.txt  \n",
            "  inflating: Yolo__Data/train/1483_Expired_Notified_Building_1_2023.png  \n",
            "  inflating: Yolo__Data/train/1483_Expired_Notified_Building_1_2023.txt  \n",
            "  inflating: Yolo__Data/train/15_Renew_Licenced_Building_1_2016.png  \n",
            "  inflating: Yolo__Data/train/15_Renew_Licenced_Building_1_2016.txt  \n",
            "  inflating: Yolo__Data/train/1507_Expired_Notified_Building_1_2017.png  \n",
            "  inflating: Yolo__Data/train/1507_Expired_Notified_Building_1_2017.txt  \n",
            "  inflating: Yolo__Data/train/1525_Expired_Notified_Building_1_2018.png  \n",
            "  inflating: Yolo__Data/train/1525_Expired_Notified_Building_1_2018.txt  \n",
            "  inflating: Yolo__Data/train/1548_Expired_Notified_Building_1_2017.png  \n",
            "  inflating: Yolo__Data/train/1548_Expired_Notified_Building_1_2017.txt  \n",
            "  inflating: Yolo__Data/train/1551_Expired_Notified_Building_1_2017.png  \n",
            "  inflating: Yolo__Data/train/1551_Expired_Notified_Building_1_2017.txt  \n",
            "  inflating: Yolo__Data/train/1554_Expired_Notified_Building_1_2015.png  \n",
            "  inflating: Yolo__Data/train/1554_Expired_Notified_Building_1_2015.txt  \n",
            "  inflating: Yolo__Data/train/167_Expired_Building_1_2023.png  \n",
            "  inflating: Yolo__Data/train/167_Expired_Building_1_2023.txt  \n",
            "  inflating: Yolo__Data/train/180_licenced_Building_1_2020.png  \n",
            "  inflating: Yolo__Data/train/180_licenced_Building_1_2020.txt  \n",
            "  inflating: Yolo__Data/train/2_Expired_Building_1_2022.png  \n",
            "  inflating: Yolo__Data/train/2_Expired_Building_1_2022.txt  \n",
            "  inflating: Yolo__Data/train/214_licenced_Building_1_2020.png  \n",
            "  inflating: Yolo__Data/train/214_licenced_Building_1_2020.txt  \n",
            "  inflating: Yolo__Data/train/220_licenced_Building_1_2022.png  \n",
            "  inflating: Yolo__Data/train/220_licenced_Building_1_2022.txt  \n",
            "  inflating: Yolo__Data/train/223_licenced_Building_1_2014.png  \n",
            "  inflating: Yolo__Data/train/223_licenced_Building_1_2014.txt  \n",
            "  inflating: Yolo__Data/train/228_Expired_Notified_Building_1_2022.png  \n",
            "  inflating: Yolo__Data/train/228_Expired_Notified_Building_1_2022.txt  \n",
            "  inflating: Yolo__Data/train/231_licenced_Building_1_2023.png  \n",
            "  inflating: Yolo__Data/train/231_licenced_Building_1_2023.txt  \n",
            "  inflating: Yolo__Data/train/232_Expired_Notified_Building_1_2016.png  \n",
            "  inflating: Yolo__Data/train/232_Expired_Notified_Building_1_2016.txt  \n",
            "  inflating: Yolo__Data/train/245_Expired_Notified_Building_1_2017.png  \n",
            "  inflating: Yolo__Data/train/245_Expired_Notified_Building_1_2017.txt  \n",
            "  inflating: Yolo__Data/train/248_licenced_Building_1_2017.png  \n",
            "  inflating: Yolo__Data/train/248_licenced_Building_1_2017.txt  \n",
            "  inflating: Yolo__Data/train/252_Expired_Building_1_2014.png  \n",
            "  inflating: Yolo__Data/train/252_Expired_Building_1_2014.txt  \n",
            "  inflating: Yolo__Data/train/275_licenced_Building_1_2023.png  \n",
            "  inflating: Yolo__Data/train/275_licenced_Building_1_2023.txt  \n",
            "  inflating: Yolo__Data/train/299_licenced_Building_1_2022.png  \n",
            "  inflating: Yolo__Data/train/299_licenced_Building_1_2022.txt  \n",
            "  inflating: Yolo__Data/train/300_Expired_Notified_Building_1_2021.png  \n",
            "  inflating: Yolo__Data/train/300_Expired_Notified_Building_1_2021.txt  \n",
            "  inflating: Yolo__Data/train/301_licenced_Building_1_2023.png  \n",
            "  inflating: Yolo__Data/train/301_licenced_Building_1_2023.txt  \n",
            "  inflating: Yolo__Data/train/309_Expired_Notified_Building_1_2016.png  \n",
            "  inflating: Yolo__Data/train/309_Expired_Notified_Building_1_2016.txt  \n",
            "  inflating: Yolo__Data/train/321_Expired_Notified_Building_1_2019.png  \n",
            "  inflating: Yolo__Data/train/321_Expired_Notified_Building_1_2019.txt  \n",
            "  inflating: Yolo__Data/train/334_Expired_Notified_Building_1_2018.png  \n",
            "  inflating: Yolo__Data/train/334_Expired_Notified_Building_1_2018.txt  \n",
            "  inflating: Yolo__Data/train/34_licenced_Small_1_2022.png  \n",
            "  inflating: Yolo__Data/train/34_licenced_Small_1_2022.txt  \n",
            "  inflating: Yolo__Data/train/344_Expired_Notified_Building_1_2022.png  \n",
            "  inflating: Yolo__Data/train/344_Expired_Notified_Building_1_2022.txt  \n",
            "  inflating: Yolo__Data/train/356_Expired_Notified_Building_1_2022.png  \n",
            "  inflating: Yolo__Data/train/356_Expired_Notified_Building_1_2022.txt  \n",
            "  inflating: Yolo__Data/train/362_Expired_Building_1_2016.png  \n",
            "  inflating: Yolo__Data/train/362_Expired_Building_1_2016.txt  \n",
            "  inflating: Yolo__Data/train/38_licenced_Small_1_2016.png  \n",
            "  inflating: Yolo__Data/train/38_licenced_Small_1_2016.txt  \n",
            "  inflating: Yolo__Data/train/385_Expired_Notified_Building_1_2014.png  \n",
            "  inflating: Yolo__Data/train/385_Expired_Notified_Building_1_2014.txt  \n",
            "  inflating: Yolo__Data/train/389_licenced_Building_1_2023.png  \n",
            "  inflating: Yolo__Data/train/389_licenced_Building_1_2023.txt  \n",
            "  inflating: Yolo__Data/train/40_licenced_Building_1_2022.png  \n",
            "  inflating: Yolo__Data/train/40_licenced_Building_1_2022.txt  \n",
            "  inflating: Yolo__Data/train/41_Expired_Building_1_2014.png  \n",
            "  inflating: Yolo__Data/train/41_Expired_Building_1_2014.txt  \n",
            "  inflating: Yolo__Data/train/417_Expired_Notified_Building_1_2022.png  \n",
            "  inflating: Yolo__Data/train/417_Expired_Notified_Building_1_2022.txt  \n",
            "  inflating: Yolo__Data/train/423_Expired_Notified_Building_1_2023.png  \n",
            "  inflating: Yolo__Data/train/423_Expired_Notified_Building_1_2023.txt  \n",
            "  inflating: Yolo__Data/train/424_licenced_Building_1_2018.png  \n",
            "  inflating: Yolo__Data/train/424_licenced_Building_1_2018.txt  \n",
            "  inflating: Yolo__Data/train/424_licenced_Building_1_2019.png  \n",
            "  inflating: Yolo__Data/train/424_licenced_Building_1_2019.txt  \n",
            "  inflating: Yolo__Data/train/441_Expired_Notified_Building_1_2017.png  \n",
            "  inflating: Yolo__Data/train/441_Expired_Notified_Building_1_2017.txt  \n",
            "  inflating: Yolo__Data/train/446_Expired_Notified_Building_1_2015.png  \n",
            "  inflating: Yolo__Data/train/446_Expired_Notified_Building_1_2015.txt  \n",
            "  inflating: Yolo__Data/train/450_Expired_Notified_Building_1_2019.png  \n",
            "  inflating: Yolo__Data/train/450_Expired_Notified_Building_1_2019.txt  \n",
            "  inflating: Yolo__Data/train/469_licenced_Building_1_2021.png  \n",
            "  inflating: Yolo__Data/train/469_licenced_Building_1_2021.txt  \n",
            "  inflating: Yolo__Data/train/470_Expired_Notified_Building_1_2015.png  \n",
            "  inflating: Yolo__Data/train/470_Expired_Notified_Building_1_2015.txt  \n",
            "  inflating: Yolo__Data/train/479_licenced_Building_1_2014.png  \n",
            "  inflating: Yolo__Data/train/479_licenced_Building_1_2014.txt  \n",
            "  inflating: Yolo__Data/train/485_Expired_Notified_Building_1_2022.png  \n",
            "  inflating: Yolo__Data/train/485_Expired_Notified_Building_1_2022.txt  \n",
            "  inflating: Yolo__Data/train/492_Expired_Notified_Building_1_2023.png  \n",
            "  inflating: Yolo__Data/train/492_Expired_Notified_Building_1_2023.txt  \n",
            "  inflating: Yolo__Data/train/493_Expired_Notified_Building_1_2014.png  \n",
            "  inflating: Yolo__Data/train/493_Expired_Notified_Building_1_2014.txt  \n",
            "  inflating: Yolo__Data/train/496_licenced_Building_1_2019.png  \n",
            "  inflating: Yolo__Data/train/496_licenced_Building_1_2019.txt  \n",
            "  inflating: Yolo__Data/train/498_licenced_Building_1_2014.png  \n",
            "  inflating: Yolo__Data/train/498_licenced_Building_1_2014.txt  \n",
            "  inflating: Yolo__Data/train/499_Expired_Notified_Building_1_2014.png  \n",
            "  inflating: Yolo__Data/train/499_Expired_Notified_Building_1_2014.txt  \n",
            "  inflating: Yolo__Data/train/499_licenced_Building_1_2015.png  \n",
            "  inflating: Yolo__Data/train/499_licenced_Building_1_2015.txt  \n",
            "  inflating: Yolo__Data/train/499_licenced_Building_1_2022.png  \n",
            "  inflating: Yolo__Data/train/499_licenced_Building_1_2022.txt  \n",
            "  inflating: Yolo__Data/train/500_Expired_Notified_Building_1_2016.png  \n",
            "  inflating: Yolo__Data/train/500_Expired_Notified_Building_1_2016.txt  \n",
            "  inflating: Yolo__Data/train/505_Expired_Notified_Building_1_2021.png  \n",
            "  inflating: Yolo__Data/train/505_Expired_Notified_Building_1_2021.txt  \n",
            "  inflating: Yolo__Data/train/512_licenced_Building_1_2016.png  \n",
            "  inflating: Yolo__Data/train/512_licenced_Building_1_2016.txt  \n",
            "  inflating: Yolo__Data/train/516_licenced_Building_1_2016.png  \n",
            "  inflating: Yolo__Data/train/516_licenced_Building_1_2016.txt  \n",
            "  inflating: Yolo__Data/train/517_Expired_Notified_Building_1_2015.png  \n",
            "  inflating: Yolo__Data/train/517_Expired_Notified_Building_1_2015.txt  \n",
            "  inflating: Yolo__Data/train/52_licenced_Small_1_2015.png  \n",
            "  inflating: Yolo__Data/train/52_licenced_Small_1_2015.txt  \n",
            "  inflating: Yolo__Data/train/53_licenced_Small_1_2019.png  \n",
            "  inflating: Yolo__Data/train/53_licenced_Small_1_2019.txt  \n",
            "  inflating: Yolo__Data/train/566_Expired_Notified_Building_1_2020.png  \n",
            "  inflating: Yolo__Data/train/566_Expired_Notified_Building_1_2020.txt  \n",
            "  inflating: Yolo__Data/train/566_Expired_Notified_Building_1_2021.png  \n",
            "  inflating: Yolo__Data/train/566_Expired_Notified_Building_1_2021.txt  \n",
            "  inflating: Yolo__Data/train/568_Expired_Exploration_1_2016.png  \n",
            "  inflating: Yolo__Data/train/568_Expired_Exploration_1_2016.txt  \n",
            "  inflating: Yolo__Data/train/58_licenced_Building_1_2023.png  \n",
            "  inflating: Yolo__Data/train/58_licenced_Building_1_2023.txt  \n",
            "  inflating: Yolo__Data/train/580_Expired_Notified_Building_1_2021.png  \n",
            "  inflating: Yolo__Data/train/580_Expired_Notified_Building_1_2021.txt  \n",
            "  inflating: Yolo__Data/train/595_Expired_Notified_Building_1_2020.png  \n",
            "  inflating: Yolo__Data/train/595_Expired_Notified_Building_1_2020.txt  \n",
            "  inflating: Yolo__Data/train/601_Expired_Notified_Building_1_2018.png  \n",
            "  inflating: Yolo__Data/train/601_Expired_Notified_Building_1_2018.txt  \n",
            "  inflating: Yolo__Data/train/623_Expired_Building_1_2019.png  \n",
            "  inflating: Yolo__Data/train/623_Expired_Building_1_2019.txt  \n",
            "  inflating: Yolo__Data/train/63_Renew_Licenced_Building_1_2014.png  \n",
            "  inflating: Yolo__Data/train/63_Renew_Licenced_Building_1_2014.txt  \n",
            "  inflating: Yolo__Data/train/638_Expired_Notified_Building_1_2015.png  \n",
            "  inflating: Yolo__Data/train/638_Expired_Notified_Building_1_2015.txt  \n",
            "  inflating: Yolo__Data/train/645_licenced_Building_1_2021.png  \n",
            "  inflating: Yolo__Data/train/645_licenced_Building_1_2021.txt  \n",
            "  inflating: Yolo__Data/train/679_Expired_Notified_Building_1_2014.png  \n",
            "  inflating: Yolo__Data/train/679_Expired_Notified_Building_1_2014.txt  \n",
            "  inflating: Yolo__Data/train/695_Expired_Building_1_2020.png  \n",
            "  inflating: Yolo__Data/train/695_Expired_Building_1_2020.txt  \n",
            "  inflating: Yolo__Data/train/701_Expired_Notified_Building_1_2020.png  \n",
            "  inflating: Yolo__Data/train/701_Expired_Notified_Building_1_2020.txt  \n",
            "  inflating: Yolo__Data/train/708_licenced_Building_1_2016.png  \n",
            "  inflating: Yolo__Data/train/708_licenced_Building_1_2016.txt  \n",
            "  inflating: Yolo__Data/train/716_Expired_Notified_Building_1_2015.png  \n",
            "  inflating: Yolo__Data/train/716_Expired_Notified_Building_1_2015.txt  \n",
            "  inflating: Yolo__Data/train/716_Expired_Notified_Building_1_2016.png  \n",
            "  inflating: Yolo__Data/train/716_Expired_Notified_Building_1_2016.txt  \n",
            "  inflating: Yolo__Data/train/73_licenced_Raw_1_2014.png  \n",
            "  inflating: Yolo__Data/train/73_licenced_Raw_1_2014.txt  \n",
            "  inflating: Yolo__Data/train/730_licenced_Building_1_2018.png  \n",
            "  inflating: Yolo__Data/train/730_licenced_Building_1_2018.txt  \n",
            "  inflating: Yolo__Data/train/746_Expired_Notified_Building_1_2023.png  \n",
            "  inflating: Yolo__Data/train/746_Expired_Notified_Building_1_2023.txt  \n",
            "  inflating: Yolo__Data/train/751_Expired_Notified_Building_1_2016.png  \n",
            "  inflating: Yolo__Data/train/751_Expired_Notified_Building_1_2016.txt  \n",
            "  inflating: Yolo__Data/train/776_licenced_Building_1_2014.png  \n",
            "  inflating: Yolo__Data/train/776_licenced_Building_1_2014.txt  \n",
            "  inflating: Yolo__Data/train/783_Expired_Notified_Building_1_2018.png  \n",
            "  inflating: Yolo__Data/train/783_Expired_Notified_Building_1_2018.txt  \n",
            "  inflating: Yolo__Data/train/798_licenced_Building_1_2022.png  \n",
            "  inflating: Yolo__Data/train/798_licenced_Building_1_2022.txt  \n",
            "  inflating: Yolo__Data/train/810_Expired_Notified_Building_1_2023.png  \n",
            "  inflating: Yolo__Data/train/810_Expired_Notified_Building_1_2023.txt  \n",
            "  inflating: Yolo__Data/train/832_licenced_Building_1_2018.png  \n",
            "  inflating: Yolo__Data/train/832_licenced_Building_1_2018.txt  \n",
            "  inflating: Yolo__Data/train/847_Expired_Notified_Building_1_2019.png  \n",
            "  inflating: Yolo__Data/train/847_Expired_Notified_Building_1_2019.txt  \n",
            "  inflating: Yolo__Data/train/848_Expired_Notified_Building_1_2023.png  \n",
            "  inflating: Yolo__Data/train/848_Expired_Notified_Building_1_2023.txt  \n",
            "  inflating: Yolo__Data/train/865_licenced_Building_1_2021.png  \n",
            "  inflating: Yolo__Data/train/865_licenced_Building_1_2021.txt  \n",
            "  inflating: Yolo__Data/train/868_Expired_Notified_Building_1_2016.png  \n",
            "  inflating: Yolo__Data/train/868_Expired_Notified_Building_1_2016.txt  \n",
            "  inflating: Yolo__Data/train/875_Expired_Notified_Building_1_2018.png  \n",
            "  inflating: Yolo__Data/train/875_Expired_Notified_Building_1_2018.txt  \n",
            "  inflating: Yolo__Data/train/891_Expired_Notified_Building_1_2018.png  \n",
            "  inflating: Yolo__Data/train/891_Expired_Notified_Building_1_2018.txt  \n",
            "  inflating: Yolo__Data/train/90_Renew_Licenced_Building_1_2022.png  \n",
            "  inflating: Yolo__Data/train/90_Renew_Licenced_Building_1_2022.txt  \n",
            "  inflating: Yolo__Data/train/909_licenced_Building_1_2015.png  \n",
            "  inflating: Yolo__Data/train/909_licenced_Building_1_2015.txt  \n",
            "  inflating: Yolo__Data/train/91_Renew_Licenced_Building_1_2016.png  \n",
            "  inflating: Yolo__Data/train/91_Renew_Licenced_Building_1_2016.txt  \n",
            "  inflating: Yolo__Data/train/925_licenced_Building_1_2021.png  \n",
            "  inflating: Yolo__Data/train/925_licenced_Building_1_2021.txt  \n",
            "  inflating: Yolo__Data/train/929_licenced_Building_1_2020.png  \n",
            "  inflating: Yolo__Data/train/929_licenced_Building_1_2020.txt  \n",
            "  inflating: Yolo__Data/train/931_Expired_Notified_Building_1_2023.png  \n",
            "  inflating: Yolo__Data/train/931_Expired_Notified_Building_1_2023.txt  \n",
            "  inflating: Yolo__Data/train/931_licenced_Building_1_2015.png  \n",
            "  inflating: Yolo__Data/train/931_licenced_Building_1_2015.txt  \n",
            "  inflating: Yolo__Data/train/934_licenced_Building_1_2023.png  \n",
            "  inflating: Yolo__Data/train/934_licenced_Building_1_2023.txt  \n",
            "  inflating: Yolo__Data/train/942_Expired_Notified_Building_1_2020.png  \n",
            "  inflating: Yolo__Data/train/942_Expired_Notified_Building_1_2020.txt  \n",
            "  inflating: Yolo__Data/train/951_Expired_Notified_Building_1_2015.png  \n",
            "  inflating: Yolo__Data/train/951_Expired_Notified_Building_1_2015.txt  \n",
            "  inflating: Yolo__Data/train/978_licenced_Building_1_2016.png  \n",
            "  inflating: Yolo__Data/train/978_licenced_Building_1_2016.txt  \n",
            "  inflating: Yolo__Data/train/987_licenced_Building_1_2018.png  \n",
            "  inflating: Yolo__Data/train/987_licenced_Building_1_2018.txt  \n",
            "  inflating: Yolo__Data/train/990_licenced_Building_1_2022.png  \n",
            "  inflating: Yolo__Data/train/990_licenced_Building_1_2022.txt  \n",
            "  inflating: Yolo__Data/train/108_Renew_Licenced_Building_1_2018.png  \n",
            "  inflating: Yolo__Data/train/108_Renew_Licenced_Building_1_2018.txt  \n",
            "  inflating: Yolo__Data/train/1080_Expired_Notified_Building_1_2021.png  \n",
            "  inflating: Yolo__Data/train/1080_Expired_Notified_Building_1_2021.txt  \n",
            "  inflating: Yolo__Data/train/118_Renew_Licenced_Building_1_2018.png  \n",
            "  inflating: Yolo__Data/train/118_Renew_Licenced_Building_1_2018.txt  \n",
            "  inflating: Yolo__Data/train/123_licenced_Building_1_2018.png  \n",
            "  inflating: Yolo__Data/train/123_licenced_Building_1_2018.txt  \n",
            "  inflating: Yolo__Data/train/1240_Expired_Notified_Building_1_2022.png  \n",
            "  inflating: Yolo__Data/train/1240_Expired_Notified_Building_1_2022.txt  \n",
            "  inflating: Yolo__Data/train/1264_Expired_Notified_Building_1_2018.png  \n",
            "  inflating: Yolo__Data/train/1264_Expired_Notified_Building_1_2018.txt  \n",
            "  inflating: Yolo__Data/train/1304_Expired_Notified_Building_1_2018.png  \n",
            "  inflating: Yolo__Data/train/1304_Expired_Notified_Building_1_2018.txt  \n",
            "  inflating: Yolo__Data/train/14_licenced_Raw_1_2019.png  \n",
            "  inflating: Yolo__Data/train/14_licenced_Raw_1_2019.txt  \n",
            "  inflating: Yolo__Data/train/1417_licenced_Building_1_2018.png  \n",
            "  inflating: Yolo__Data/train/1417_licenced_Building_1_2018.txt  \n",
            "  inflating: Yolo__Data/train/1425_Expired_Notified_Building_1_2020.png  \n",
            "  inflating: Yolo__Data/train/1425_Expired_Notified_Building_1_2020.txt  \n",
            "  inflating: Yolo__Data/train/1476_Expired_Notified_Building_1_2015.png  \n",
            "  inflating: Yolo__Data/train/1476_Expired_Notified_Building_1_2015.txt  \n",
            "  inflating: Yolo__Data/train/1480_Expired_Notified_Building_1_2019.png  \n",
            "  inflating: Yolo__Data/train/1480_Expired_Notified_Building_1_2019.txt  \n",
            "  inflating: Yolo__Data/train/153_Expired_Exploration_1_2018.png  \n",
            "  inflating: Yolo__Data/train/153_Expired_Exploration_1_2018.txt  \n",
            "  inflating: Yolo__Data/train/161_licenced_Building_1_2023.png  \n",
            "  inflating: Yolo__Data/train/161_licenced_Building_1_2023.txt  \n",
            "  inflating: Yolo__Data/train/17_licenced_Building_1_2020.png  \n",
            "  inflating: Yolo__Data/train/17_licenced_Building_1_2020.txt  \n",
            "  inflating: Yolo__Data/train/18_licenced_Small_1_2016.png  \n",
            "  inflating: Yolo__Data/train/18_licenced_Small_1_2016.txt  \n",
            "  inflating: Yolo__Data/train/2_licenced_Building_1_2020.png  \n",
            "  inflating: Yolo__Data/train/2_licenced_Building_1_2020.txt  \n",
            "  inflating: Yolo__Data/train/200_licenced_Building_1_2020.png  \n",
            "  inflating: Yolo__Data/train/200_licenced_Building_1_2020.txt  \n",
            "  inflating: Yolo__Data/train/21_Renew_Licenced_Building_1_2023.png  \n",
            "  inflating: Yolo__Data/train/21_Renew_Licenced_Building_1_2023.txt  \n",
            "  inflating: Yolo__Data/train/22_licenced_Building_1_2020.png  \n",
            "  inflating: Yolo__Data/train/22_licenced_Building_1_2020.txt  \n",
            "  inflating: Yolo__Data/train/236_licenced_Building_1_2023.png  \n",
            "  inflating: Yolo__Data/train/236_licenced_Building_1_2023.txt  \n",
            "  inflating: Yolo__Data/train/242_Expired_Notified_Building_1_2018.png  \n",
            "  inflating: Yolo__Data/train/242_Expired_Notified_Building_1_2018.txt  \n",
            "  inflating: Yolo__Data/train/25_licenced_Building_1_2018.png  \n",
            "  inflating: Yolo__Data/train/25_licenced_Building_1_2018.txt  \n",
            "  inflating: Yolo__Data/train/27_licenced_Small_1_2014.png  \n",
            "  inflating: Yolo__Data/train/27_licenced_Small_1_2014.txt  \n",
            "  inflating: Yolo__Data/train/28_licenced_Raw_1_2014.png  \n",
            "  inflating: Yolo__Data/train/28_licenced_Raw_1_2014.txt  \n",
            "  inflating: Yolo__Data/train/335_licenced_Building_1_2023.png  \n",
            "  inflating: Yolo__Data/train/335_licenced_Building_1_2023.txt  \n",
            "   creating: Yolo__Data/test/\n",
            "  inflating: Yolo__Data/test/1035_licenced_Building_1_2014.png  \n",
            "  inflating: Yolo__Data/test/1035_licenced_Building_1_2014.txt  \n",
            "  inflating: Yolo__Data/test/1044_licenced_Building_1_2023.png  \n",
            "  inflating: Yolo__Data/test/1044_licenced_Building_1_2023.txt  \n",
            "  inflating: Yolo__Data/test/1055_Expired_Notified_Building_1_2017.png  \n",
            "  inflating: Yolo__Data/test/1055_Expired_Notified_Building_1_2017.txt  \n",
            "  inflating: Yolo__Data/test/1272_licenced_Building_1_2021.png  \n",
            "  inflating: Yolo__Data/test/1272_licenced_Building_1_2021.txt  \n",
            "  inflating: Yolo__Data/test/143_Expired_Notified_Building_1_2014.png  \n",
            "  inflating: Yolo__Data/test/143_Expired_Notified_Building_1_2014.txt  \n",
            "  inflating: Yolo__Data/test/1489_licenced_Building_1_2022.png  \n",
            "  inflating: Yolo__Data/test/1489_licenced_Building_1_2022.txt  \n",
            "  inflating: Yolo__Data/test/1496_licenced_Building_1_2016.png  \n",
            "  inflating: Yolo__Data/test/1496_licenced_Building_1_2016.txt  \n",
            "  inflating: Yolo__Data/test/1545_Expired_Notified_Building_1_2014.png  \n",
            "  inflating: Yolo__Data/test/1545_Expired_Notified_Building_1_2014.txt  \n",
            "  inflating: Yolo__Data/test/17_Expired_Notified_Building_1_2014.png  \n",
            "  inflating: Yolo__Data/test/17_Expired_Notified_Building_1_2014.txt  \n",
            "  inflating: Yolo__Data/test/187_licenced_Building_1_2018.png  \n",
            "  inflating: Yolo__Data/test/187_licenced_Building_1_2018.txt  \n",
            "  inflating: Yolo__Data/test/2_licenced_Small_1_2014.png  \n",
            "  inflating: Yolo__Data/test/2_licenced_Small_1_2014.txt  \n",
            "  inflating: Yolo__Data/test/222_licenced_Building_1_2020.png  \n",
            "  inflating: Yolo__Data/test/222_licenced_Building_1_2020.txt  \n",
            "  inflating: Yolo__Data/test/307_Expired_Notified_Building_1_2016.png  \n",
            "  inflating: Yolo__Data/test/307_Expired_Notified_Building_1_2016.txt  \n",
            "  inflating: Yolo__Data/test/371_Expired_Notified_Building_1_2015.png  \n",
            "  inflating: Yolo__Data/test/371_Expired_Notified_Building_1_2015.txt  \n",
            "  inflating: Yolo__Data/test/39_licenced_Raw_1_2016.png  \n",
            "  inflating: Yolo__Data/test/39_licenced_Raw_1_2016.txt  \n",
            "  inflating: Yolo__Data/test/422_licenced_Building_1_2015.png  \n",
            "  inflating: Yolo__Data/test/422_licenced_Building_1_2015.txt  \n",
            "  inflating: Yolo__Data/test/428_Expired_Notified_Building_1_2018.png  \n",
            "  inflating: Yolo__Data/test/428_Expired_Notified_Building_1_2018.txt  \n",
            "  inflating: Yolo__Data/test/432_Expired_Notified_Building_1_2014.png  \n",
            "  inflating: Yolo__Data/test/432_Expired_Notified_Building_1_2014.txt  \n",
            "  inflating: Yolo__Data/test/461_Expired_Building_1_2023.png  \n",
            "  inflating: Yolo__Data/test/461_Expired_Building_1_2023.txt  \n",
            "  inflating: Yolo__Data/test/478_Expired_Notified_Building_1_2016.png  \n",
            "  inflating: Yolo__Data/test/478_Expired_Notified_Building_1_2016.txt  \n",
            "  inflating: Yolo__Data/test/525_licenced_Building_1_2014.png  \n",
            "  inflating: Yolo__Data/test/525_licenced_Building_1_2014.txt  \n",
            "  inflating: Yolo__Data/test/549_Expired_Notified_Building_1_2015.png  \n",
            "  inflating: Yolo__Data/test/549_Expired_Notified_Building_1_2015.txt  \n",
            "  inflating: Yolo__Data/test/568_Expired_Notified_Building_1_2019.png  \n",
            "  inflating: Yolo__Data/test/568_Expired_Notified_Building_1_2019.txt  \n",
            "  inflating: Yolo__Data/test/581_licenced_Building_1_2020.png  \n",
            "  inflating: Yolo__Data/test/581_licenced_Building_1_2020.txt  \n",
            "  inflating: Yolo__Data/test/606_licenced_Building_1_2020.png  \n",
            "  inflating: Yolo__Data/test/606_licenced_Building_1_2020.txt  \n",
            "  inflating: Yolo__Data/test/649_Expired_Notified_Building_1_2017.png  \n",
            "  inflating: Yolo__Data/test/649_Expired_Notified_Building_1_2017.txt  \n",
            "  inflating: Yolo__Data/test/75_licenced_Building_1_2018.png  \n",
            "  inflating: Yolo__Data/test/75_licenced_Building_1_2018.txt  \n",
            "  inflating: Yolo__Data/test/786_licenced_Building_1_2019.png  \n",
            "  inflating: Yolo__Data/test/786_licenced_Building_1_2019.txt  \n",
            "  inflating: Yolo__Data/test/830_licenced_Building_1_2018.png  \n",
            "  inflating: Yolo__Data/test/830_licenced_Building_1_2018.txt  \n",
            "  inflating: Yolo__Data/test/837_Expired_Notified_Building_1_2016.png  \n",
            "  inflating: Yolo__Data/test/837_Expired_Notified_Building_1_2016.txt  \n",
            "  inflating: Yolo__Data/test/872_licenced_Building_1_2015.png  \n",
            "  inflating: Yolo__Data/test/872_licenced_Building_1_2015.txt  \n",
            "  inflating: Yolo__Data/test/89_licenced_Building_1_2022.png  \n",
            "  inflating: Yolo__Data/test/89_licenced_Building_1_2022.txt  \n",
            "  inflating: Yolo__Data/test/962_licenced_Building_1_2015.png  \n",
            "  inflating: Yolo__Data/test/962_licenced_Building_1_2015.txt  \n",
            "   creating: Yolo__Data/val/\n",
            "  inflating: Yolo__Data/val/35_licenced_Small_1_2020.png  \n",
            "  inflating: Yolo__Data/val/35_licenced_Small_1_2020.txt  \n",
            "  inflating: Yolo__Data/val/374_licenced_Building_1_2016.png  \n",
            "  inflating: Yolo__Data/val/374_licenced_Building_1_2016.txt  \n",
            "  inflating: Yolo__Data/val/386_Expired_Notified_Building_1_2022.png  \n",
            "  inflating: Yolo__Data/val/386_Expired_Notified_Building_1_2022.txt  \n",
            "  inflating: Yolo__Data/val/393_Expired_Notified_Building_1_2016.png  \n",
            "  inflating: Yolo__Data/val/393_Expired_Notified_Building_1_2016.txt  \n",
            "  inflating: Yolo__Data/val/423_licenced_Building_1_2021.png  \n",
            "  inflating: Yolo__Data/val/423_licenced_Building_1_2021.txt  \n",
            "  inflating: Yolo__Data/val/46_Renew_Licenced_Building_1_2023.png  \n",
            "  inflating: Yolo__Data/val/46_Renew_Licenced_Building_1_2023.txt  \n",
            "  inflating: Yolo__Data/val/477_Expired_Notified_Building_1_2023.png  \n",
            "  inflating: Yolo__Data/val/477_Expired_Notified_Building_1_2023.txt  \n",
            "  inflating: Yolo__Data/val/491_Expired_Notified_Building_1_2023.png  \n",
            "  inflating: Yolo__Data/val/491_Expired_Notified_Building_1_2023.txt  \n",
            "  inflating: Yolo__Data/val/574_licenced_Building_1_2015.png  \n",
            "  inflating: Yolo__Data/val/574_licenced_Building_1_2015.txt  \n",
            "  inflating: Yolo__Data/val/624_licenced_Building_1_2020.png  \n",
            "  inflating: Yolo__Data/val/624_licenced_Building_1_2020.txt  \n",
            "  inflating: Yolo__Data/val/641_Expired_Notified_Building_1_2017.png  \n",
            "  inflating: Yolo__Data/val/641_Expired_Notified_Building_1_2017.txt  \n",
            "  inflating: Yolo__Data/val/67_Renew_Licenced_Building_1_2020.png  \n",
            "  inflating: Yolo__Data/val/67_Renew_Licenced_Building_1_2020.txt  \n",
            "  inflating: Yolo__Data/val/68_licenced_Building_1_2016.png  \n",
            "  inflating: Yolo__Data/val/68_licenced_Building_1_2016.txt  \n",
            "  inflating: Yolo__Data/val/706_Expired_Notified_Building_1_2023.png  \n",
            "  inflating: Yolo__Data/val/706_Expired_Notified_Building_1_2023.txt  \n",
            "  inflating: Yolo__Data/val/71_licenced_Small_1_2023.png  \n",
            "  inflating: Yolo__Data/val/71_licenced_Small_1_2023.txt  \n",
            "  inflating: Yolo__Data/val/772_Expired_Notified_Building_1_2020.png  \n",
            "  inflating: Yolo__Data/val/772_Expired_Notified_Building_1_2020.txt  \n",
            "  inflating: Yolo__Data/val/824_Expired_Notified_Building_1_2019.png  \n",
            "  inflating: Yolo__Data/val/824_Expired_Notified_Building_1_2019.txt  \n",
            "  inflating: Yolo__Data/val/83_licenced_Raw_1_2014.png  \n",
            "  inflating: Yolo__Data/val/83_licenced_Raw_1_2014.txt  \n",
            "  inflating: Yolo__Data/val/849_licenced_Building_1_2015.png  \n",
            "  inflating: Yolo__Data/val/849_licenced_Building_1_2015.txt  \n",
            "  inflating: Yolo__Data/val/85_licenced_Raw_1_2016.png  \n",
            "  inflating: Yolo__Data/val/85_licenced_Raw_1_2016.txt  \n",
            "  inflating: Yolo__Data/val/9_licenced_Small_1_2019.png  \n",
            "  inflating: Yolo__Data/val/9_licenced_Small_1_2019.txt  \n",
            "  inflating: Yolo__Data/val/904_Expired_Notified_Building_1_2016.png  \n",
            "  inflating: Yolo__Data/val/904_Expired_Notified_Building_1_2016.txt  \n",
            "  inflating: Yolo__Data/val/925_Expired_Notified_Building_1_2015.png  \n",
            "  inflating: Yolo__Data/val/925_Expired_Notified_Building_1_2015.txt  \n",
            "  inflating: Yolo__Data/val/939_Expired_Notified_Building_1_2019.png  \n",
            "  inflating: Yolo__Data/val/939_Expired_Notified_Building_1_2019.txt  \n"
          ]
        }
      ]
    },
    {
      "cell_type": "code",
      "source": [
        "# Install PyTorch\n",
        "!pip install torch torchvision\n",
        "\n",
        "# Install YOLOv5 from Ultralytics GitHub repository\n",
        "!pip install yolov5"
      ],
      "metadata": {
        "id": "QWbUoskJ8n1g",
        "colab": {
          "base_uri": "https://localhost:8080/"
        },
        "outputId": "66473fac-6574-4ae4-f2b0-d6784ce759df"
      },
      "execution_count": null,
      "outputs": [
        {
          "output_type": "stream",
          "name": "stdout",
          "text": [
            "Requirement already satisfied: torch in /usr/local/lib/python3.11/dist-packages (2.5.1+cu124)\n",
            "Requirement already satisfied: torchvision in /usr/local/lib/python3.11/dist-packages (0.20.1+cu124)\n",
            "Requirement already satisfied: filelock in /usr/local/lib/python3.11/dist-packages (from torch) (3.17.0)\n",
            "Requirement already satisfied: typing-extensions>=4.8.0 in /usr/local/lib/python3.11/dist-packages (from torch) (4.12.2)\n",
            "Requirement already satisfied: networkx in /usr/local/lib/python3.11/dist-packages (from torch) (3.4.2)\n",
            "Requirement already satisfied: jinja2 in /usr/local/lib/python3.11/dist-packages (from torch) (3.1.5)\n",
            "Requirement already satisfied: fsspec in /usr/local/lib/python3.11/dist-packages (from torch) (2024.10.0)\n",
            "Collecting nvidia-cuda-nvrtc-cu12==12.4.127 (from torch)\n",
            "  Downloading nvidia_cuda_nvrtc_cu12-12.4.127-py3-none-manylinux2014_x86_64.whl.metadata (1.5 kB)\n",
            "Collecting nvidia-cuda-runtime-cu12==12.4.127 (from torch)\n",
            "  Downloading nvidia_cuda_runtime_cu12-12.4.127-py3-none-manylinux2014_x86_64.whl.metadata (1.5 kB)\n",
            "Collecting nvidia-cuda-cupti-cu12==12.4.127 (from torch)\n",
            "  Downloading nvidia_cuda_cupti_cu12-12.4.127-py3-none-manylinux2014_x86_64.whl.metadata (1.6 kB)\n",
            "Collecting nvidia-cudnn-cu12==9.1.0.70 (from torch)\n",
            "  Downloading nvidia_cudnn_cu12-9.1.0.70-py3-none-manylinux2014_x86_64.whl.metadata (1.6 kB)\n",
            "Collecting nvidia-cublas-cu12==12.4.5.8 (from torch)\n",
            "  Downloading nvidia_cublas_cu12-12.4.5.8-py3-none-manylinux2014_x86_64.whl.metadata (1.5 kB)\n",
            "Collecting nvidia-cufft-cu12==11.2.1.3 (from torch)\n",
            "  Downloading nvidia_cufft_cu12-11.2.1.3-py3-none-manylinux2014_x86_64.whl.metadata (1.5 kB)\n",
            "Collecting nvidia-curand-cu12==10.3.5.147 (from torch)\n",
            "  Downloading nvidia_curand_cu12-10.3.5.147-py3-none-manylinux2014_x86_64.whl.metadata (1.5 kB)\n",
            "Collecting nvidia-cusolver-cu12==11.6.1.9 (from torch)\n",
            "  Downloading nvidia_cusolver_cu12-11.6.1.9-py3-none-manylinux2014_x86_64.whl.metadata (1.6 kB)\n",
            "Collecting nvidia-cusparse-cu12==12.3.1.170 (from torch)\n",
            "  Downloading nvidia_cusparse_cu12-12.3.1.170-py3-none-manylinux2014_x86_64.whl.metadata (1.6 kB)\n",
            "Requirement already satisfied: nvidia-nccl-cu12==2.21.5 in /usr/local/lib/python3.11/dist-packages (from torch) (2.21.5)\n",
            "Requirement already satisfied: nvidia-nvtx-cu12==12.4.127 in /usr/local/lib/python3.11/dist-packages (from torch) (12.4.127)\n",
            "Collecting nvidia-nvjitlink-cu12==12.4.127 (from torch)\n",
            "  Downloading nvidia_nvjitlink_cu12-12.4.127-py3-none-manylinux2014_x86_64.whl.metadata (1.5 kB)\n",
            "Requirement already satisfied: triton==3.1.0 in /usr/local/lib/python3.11/dist-packages (from torch) (3.1.0)\n",
            "Requirement already satisfied: sympy==1.13.1 in /usr/local/lib/python3.11/dist-packages (from torch) (1.13.1)\n",
            "Requirement already satisfied: mpmath<1.4,>=1.1.0 in /usr/local/lib/python3.11/dist-packages (from sympy==1.13.1->torch) (1.3.0)\n",
            "Requirement already satisfied: numpy in /usr/local/lib/python3.11/dist-packages (from torchvision) (1.26.4)\n",
            "Requirement already satisfied: pillow!=8.3.*,>=5.3.0 in /usr/local/lib/python3.11/dist-packages (from torchvision) (11.1.0)\n",
            "Requirement already satisfied: MarkupSafe>=2.0 in /usr/local/lib/python3.11/dist-packages (from jinja2->torch) (3.0.2)\n",
            "Downloading nvidia_cublas_cu12-12.4.5.8-py3-none-manylinux2014_x86_64.whl (363.4 MB)\n",
            "\u001b[2K   \u001b[90m━━━━━━━━━━━━━━━━━━━━━━━━━━━━━━━━━━━━━━━━\u001b[0m \u001b[32m363.4/363.4 MB\u001b[0m \u001b[31m4.3 MB/s\u001b[0m eta \u001b[36m0:00:00\u001b[0m\n",
            "\u001b[?25hDownloading nvidia_cuda_cupti_cu12-12.4.127-py3-none-manylinux2014_x86_64.whl (13.8 MB)\n",
            "\u001b[2K   \u001b[90m━━━━━━━━━━━━━━━━━━━━━━━━━━━━━━━━━━━━━━━━\u001b[0m \u001b[32m13.8/13.8 MB\u001b[0m \u001b[31m68.0 MB/s\u001b[0m eta \u001b[36m0:00:00\u001b[0m\n",
            "\u001b[?25hDownloading nvidia_cuda_nvrtc_cu12-12.4.127-py3-none-manylinux2014_x86_64.whl (24.6 MB)\n",
            "\u001b[2K   \u001b[90m━━━━━━━━━━━━━━━━━━━━━━━━━━━━━━━━━━━━━━━━\u001b[0m \u001b[32m24.6/24.6 MB\u001b[0m \u001b[31m35.6 MB/s\u001b[0m eta \u001b[36m0:00:00\u001b[0m\n",
            "\u001b[?25hDownloading nvidia_cuda_runtime_cu12-12.4.127-py3-none-manylinux2014_x86_64.whl (883 kB)\n",
            "\u001b[2K   \u001b[90m━━━━━━━━━━━━━━━━━━━━━━━━━━━━━━━━━━━━━━━━\u001b[0m \u001b[32m883.7/883.7 kB\u001b[0m \u001b[31m45.6 MB/s\u001b[0m eta \u001b[36m0:00:00\u001b[0m\n",
            "\u001b[?25hDownloading nvidia_cudnn_cu12-9.1.0.70-py3-none-manylinux2014_x86_64.whl (664.8 MB)\n",
            "\u001b[2K   \u001b[90m━━━━━━━━━━━━━━━━━━━━━━━━━━━━━━━━━━━━━━━━\u001b[0m \u001b[32m664.8/664.8 MB\u001b[0m \u001b[31m2.9 MB/s\u001b[0m eta \u001b[36m0:00:00\u001b[0m\n",
            "\u001b[?25hDownloading nvidia_cufft_cu12-11.2.1.3-py3-none-manylinux2014_x86_64.whl (211.5 MB)\n",
            "\u001b[2K   \u001b[90m━━━━━━━━━━━━━━━━━━━━━━━━━━━━━━━━━━━━━━━━\u001b[0m \u001b[32m211.5/211.5 MB\u001b[0m \u001b[31m5.6 MB/s\u001b[0m eta \u001b[36m0:00:00\u001b[0m\n",
            "\u001b[?25hDownloading nvidia_curand_cu12-10.3.5.147-py3-none-manylinux2014_x86_64.whl (56.3 MB)\n",
            "\u001b[2K   \u001b[90m━━━━━━━━━━━━━━━━━━━━━━━━━━━━━━━━━━━━━━━━\u001b[0m \u001b[32m56.3/56.3 MB\u001b[0m \u001b[31m12.2 MB/s\u001b[0m eta \u001b[36m0:00:00\u001b[0m\n",
            "\u001b[?25hDownloading nvidia_cusolver_cu12-11.6.1.9-py3-none-manylinux2014_x86_64.whl (127.9 MB)\n",
            "\u001b[2K   \u001b[90m━━━━━━━━━━━━━━━━━━━━━━━━━━━━━━━━━━━━━━━━\u001b[0m \u001b[32m127.9/127.9 MB\u001b[0m \u001b[31m7.3 MB/s\u001b[0m eta \u001b[36m0:00:00\u001b[0m\n",
            "\u001b[?25hDownloading nvidia_cusparse_cu12-12.3.1.170-py3-none-manylinux2014_x86_64.whl (207.5 MB)\n",
            "\u001b[2K   \u001b[90m━━━━━━━━━━━━━━━━━━━━━━━━━━━━━━━━━━━━━━━━\u001b[0m \u001b[32m207.5/207.5 MB\u001b[0m \u001b[31m6.6 MB/s\u001b[0m eta \u001b[36m0:00:00\u001b[0m\n",
            "\u001b[?25hDownloading nvidia_nvjitlink_cu12-12.4.127-py3-none-manylinux2014_x86_64.whl (21.1 MB)\n",
            "\u001b[2K   \u001b[90m━━━━━━━━━━━━━━━━━━━━━━━━━━━━━━━━━━━━━━━━\u001b[0m \u001b[32m21.1/21.1 MB\u001b[0m \u001b[31m88.8 MB/s\u001b[0m eta \u001b[36m0:00:00\u001b[0m\n",
            "\u001b[?25hInstalling collected packages: nvidia-nvjitlink-cu12, nvidia-curand-cu12, nvidia-cufft-cu12, nvidia-cuda-runtime-cu12, nvidia-cuda-nvrtc-cu12, nvidia-cuda-cupti-cu12, nvidia-cublas-cu12, nvidia-cusparse-cu12, nvidia-cudnn-cu12, nvidia-cusolver-cu12\n",
            "  Attempting uninstall: nvidia-nvjitlink-cu12\n",
            "    Found existing installation: nvidia-nvjitlink-cu12 12.5.82\n",
            "    Uninstalling nvidia-nvjitlink-cu12-12.5.82:\n",
            "      Successfully uninstalled nvidia-nvjitlink-cu12-12.5.82\n",
            "  Attempting uninstall: nvidia-curand-cu12\n",
            "    Found existing installation: nvidia-curand-cu12 10.3.6.82\n",
            "    Uninstalling nvidia-curand-cu12-10.3.6.82:\n",
            "      Successfully uninstalled nvidia-curand-cu12-10.3.6.82\n",
            "  Attempting uninstall: nvidia-cufft-cu12\n",
            "    Found existing installation: nvidia-cufft-cu12 11.2.3.61\n",
            "    Uninstalling nvidia-cufft-cu12-11.2.3.61:\n",
            "      Successfully uninstalled nvidia-cufft-cu12-11.2.3.61\n",
            "  Attempting uninstall: nvidia-cuda-runtime-cu12\n",
            "    Found existing installation: nvidia-cuda-runtime-cu12 12.5.82\n",
            "    Uninstalling nvidia-cuda-runtime-cu12-12.5.82:\n",
            "      Successfully uninstalled nvidia-cuda-runtime-cu12-12.5.82\n",
            "  Attempting uninstall: nvidia-cuda-nvrtc-cu12\n",
            "    Found existing installation: nvidia-cuda-nvrtc-cu12 12.5.82\n",
            "    Uninstalling nvidia-cuda-nvrtc-cu12-12.5.82:\n",
            "      Successfully uninstalled nvidia-cuda-nvrtc-cu12-12.5.82\n",
            "  Attempting uninstall: nvidia-cuda-cupti-cu12\n",
            "    Found existing installation: nvidia-cuda-cupti-cu12 12.5.82\n",
            "    Uninstalling nvidia-cuda-cupti-cu12-12.5.82:\n",
            "      Successfully uninstalled nvidia-cuda-cupti-cu12-12.5.82\n",
            "  Attempting uninstall: nvidia-cublas-cu12\n",
            "    Found existing installation: nvidia-cublas-cu12 12.5.3.2\n",
            "    Uninstalling nvidia-cublas-cu12-12.5.3.2:\n",
            "      Successfully uninstalled nvidia-cublas-cu12-12.5.3.2\n",
            "  Attempting uninstall: nvidia-cusparse-cu12\n",
            "    Found existing installation: nvidia-cusparse-cu12 12.5.1.3\n",
            "    Uninstalling nvidia-cusparse-cu12-12.5.1.3:\n",
            "      Successfully uninstalled nvidia-cusparse-cu12-12.5.1.3\n",
            "  Attempting uninstall: nvidia-cudnn-cu12\n",
            "    Found existing installation: nvidia-cudnn-cu12 9.3.0.75\n",
            "    Uninstalling nvidia-cudnn-cu12-9.3.0.75:\n",
            "      Successfully uninstalled nvidia-cudnn-cu12-9.3.0.75\n",
            "  Attempting uninstall: nvidia-cusolver-cu12\n",
            "    Found existing installation: nvidia-cusolver-cu12 11.6.3.83\n",
            "    Uninstalling nvidia-cusolver-cu12-11.6.3.83:\n",
            "      Successfully uninstalled nvidia-cusolver-cu12-11.6.3.83\n",
            "Successfully installed nvidia-cublas-cu12-12.4.5.8 nvidia-cuda-cupti-cu12-12.4.127 nvidia-cuda-nvrtc-cu12-12.4.127 nvidia-cuda-runtime-cu12-12.4.127 nvidia-cudnn-cu12-9.1.0.70 nvidia-cufft-cu12-11.2.1.3 nvidia-curand-cu12-10.3.5.147 nvidia-cusolver-cu12-11.6.1.9 nvidia-cusparse-cu12-12.3.1.170 nvidia-nvjitlink-cu12-12.4.127\n",
            "Collecting yolov5\n",
            "  Downloading yolov5-7.0.14-py37.py38.py39.py310-none-any.whl.metadata (10 kB)\n",
            "Requirement already satisfied: gitpython>=3.1.30 in /usr/local/lib/python3.11/dist-packages (from yolov5) (3.1.44)\n",
            "Requirement already satisfied: matplotlib>=3.3 in /usr/local/lib/python3.11/dist-packages (from yolov5) (3.10.0)\n",
            "Requirement already satisfied: numpy>=1.18.5 in /usr/local/lib/python3.11/dist-packages (from yolov5) (1.26.4)\n",
            "Requirement already satisfied: opencv-python>=4.1.1 in /usr/local/lib/python3.11/dist-packages (from yolov5) (4.10.0.84)\n",
            "Requirement already satisfied: Pillow>=7.1.2 in /usr/local/lib/python3.11/dist-packages (from yolov5) (11.1.0)\n",
            "Requirement already satisfied: psutil in /usr/local/lib/python3.11/dist-packages (from yolov5) (5.9.5)\n",
            "Requirement already satisfied: PyYAML>=5.3.1 in /usr/local/lib/python3.11/dist-packages (from yolov5) (6.0.2)\n",
            "Requirement already satisfied: requests>=2.23.0 in /usr/local/lib/python3.11/dist-packages (from yolov5) (2.32.3)\n",
            "Requirement already satisfied: scipy>=1.4.1 in /usr/local/lib/python3.11/dist-packages (from yolov5) (1.13.1)\n",
            "Collecting thop>=0.1.1 (from yolov5)\n",
            "  Downloading thop-0.1.1.post2209072238-py3-none-any.whl.metadata (2.7 kB)\n",
            "Requirement already satisfied: torch>=1.7.0 in /usr/local/lib/python3.11/dist-packages (from yolov5) (2.5.1+cu124)\n",
            "Requirement already satisfied: torchvision>=0.8.1 in /usr/local/lib/python3.11/dist-packages (from yolov5) (0.20.1+cu124)\n",
            "Requirement already satisfied: tqdm>=4.64.0 in /usr/local/lib/python3.11/dist-packages (from yolov5) (4.67.1)\n",
            "Collecting ultralytics>=8.0.100 (from yolov5)\n",
            "  Downloading ultralytics-8.3.70-py3-none-any.whl.metadata (35 kB)\n",
            "Requirement already satisfied: tensorboard>=2.4.1 in /usr/local/lib/python3.11/dist-packages (from yolov5) (2.18.0)\n",
            "Requirement already satisfied: pandas>=1.1.4 in /usr/local/lib/python3.11/dist-packages (from yolov5) (2.2.2)\n",
            "Requirement already satisfied: seaborn>=0.11.0 in /usr/local/lib/python3.11/dist-packages (from yolov5) (0.13.2)\n",
            "Requirement already satisfied: setuptools>=65.5.1 in /usr/local/lib/python3.11/dist-packages (from yolov5) (75.1.0)\n",
            "Collecting fire (from yolov5)\n",
            "  Downloading fire-0.7.0.tar.gz (87 kB)\n",
            "\u001b[2K     \u001b[90m━━━━━━━━━━━━━━━━━━━━━━━━━━━━━━━━━━━━━━━━\u001b[0m \u001b[32m87.2/87.2 kB\u001b[0m \u001b[31m5.9 MB/s\u001b[0m eta \u001b[36m0:00:00\u001b[0m\n",
            "\u001b[?25h  Preparing metadata (setup.py) ... \u001b[?25l\u001b[?25hdone\n",
            "Collecting boto3>=1.19.1 (from yolov5)\n",
            "  Downloading boto3-1.36.11-py3-none-any.whl.metadata (6.7 kB)\n",
            "Collecting sahi>=0.11.10 (from yolov5)\n",
            "  Downloading sahi-0.11.20-py3-none-any.whl.metadata (17 kB)\n",
            "Collecting huggingface-hub<0.25.0,>=0.12.0 (from yolov5)\n",
            "  Downloading huggingface_hub-0.24.7-py3-none-any.whl.metadata (13 kB)\n",
            "Collecting roboflow>=0.2.29 (from yolov5)\n",
            "  Downloading roboflow-1.1.53-py3-none-any.whl.metadata (9.7 kB)\n",
            "Collecting botocore<1.37.0,>=1.36.11 (from boto3>=1.19.1->yolov5)\n",
            "  Downloading botocore-1.36.11-py3-none-any.whl.metadata (5.7 kB)\n",
            "Collecting jmespath<2.0.0,>=0.7.1 (from boto3>=1.19.1->yolov5)\n",
            "  Downloading jmespath-1.0.1-py3-none-any.whl.metadata (7.6 kB)\n",
            "Collecting s3transfer<0.12.0,>=0.11.0 (from boto3>=1.19.1->yolov5)\n",
            "  Downloading s3transfer-0.11.2-py3-none-any.whl.metadata (1.7 kB)\n",
            "Requirement already satisfied: gitdb<5,>=4.0.1 in /usr/local/lib/python3.11/dist-packages (from gitpython>=3.1.30->yolov5) (4.0.12)\n",
            "Requirement already satisfied: filelock in /usr/local/lib/python3.11/dist-packages (from huggingface-hub<0.25.0,>=0.12.0->yolov5) (3.17.0)\n",
            "Requirement already satisfied: fsspec>=2023.5.0 in /usr/local/lib/python3.11/dist-packages (from huggingface-hub<0.25.0,>=0.12.0->yolov5) (2024.10.0)\n",
            "Requirement already satisfied: packaging>=20.9 in /usr/local/lib/python3.11/dist-packages (from huggingface-hub<0.25.0,>=0.12.0->yolov5) (24.2)\n",
            "Requirement already satisfied: typing-extensions>=3.7.4.3 in /usr/local/lib/python3.11/dist-packages (from huggingface-hub<0.25.0,>=0.12.0->yolov5) (4.12.2)\n",
            "Requirement already satisfied: contourpy>=1.0.1 in /usr/local/lib/python3.11/dist-packages (from matplotlib>=3.3->yolov5) (1.3.1)\n",
            "Requirement already satisfied: cycler>=0.10 in /usr/local/lib/python3.11/dist-packages (from matplotlib>=3.3->yolov5) (0.12.1)\n",
            "Requirement already satisfied: fonttools>=4.22.0 in /usr/local/lib/python3.11/dist-packages (from matplotlib>=3.3->yolov5) (4.55.7)\n",
            "Requirement already satisfied: kiwisolver>=1.3.1 in /usr/local/lib/python3.11/dist-packages (from matplotlib>=3.3->yolov5) (1.4.8)\n",
            "Requirement already satisfied: pyparsing>=2.3.1 in /usr/local/lib/python3.11/dist-packages (from matplotlib>=3.3->yolov5) (3.2.1)\n",
            "Requirement already satisfied: python-dateutil>=2.7 in /usr/local/lib/python3.11/dist-packages (from matplotlib>=3.3->yolov5) (2.8.2)\n",
            "Requirement already satisfied: pytz>=2020.1 in /usr/local/lib/python3.11/dist-packages (from pandas>=1.1.4->yolov5) (2024.2)\n",
            "Requirement already satisfied: tzdata>=2022.7 in /usr/local/lib/python3.11/dist-packages (from pandas>=1.1.4->yolov5) (2025.1)\n",
            "Requirement already satisfied: charset-normalizer<4,>=2 in /usr/local/lib/python3.11/dist-packages (from requests>=2.23.0->yolov5) (3.4.1)\n",
            "Requirement already satisfied: idna<4,>=2.5 in /usr/local/lib/python3.11/dist-packages (from requests>=2.23.0->yolov5) (3.10)\n",
            "Requirement already satisfied: urllib3<3,>=1.21.1 in /usr/local/lib/python3.11/dist-packages (from requests>=2.23.0->yolov5) (2.3.0)\n",
            "Requirement already satisfied: certifi>=2017.4.17 in /usr/local/lib/python3.11/dist-packages (from requests>=2.23.0->yolov5) (2024.12.14)\n",
            "Collecting idna<4,>=2.5 (from requests>=2.23.0->yolov5)\n",
            "  Downloading idna-3.7-py3-none-any.whl.metadata (9.9 kB)\n",
            "Collecting opencv-python-headless==4.10.0.84 (from roboflow>=0.2.29->yolov5)\n",
            "  Downloading opencv_python_headless-4.10.0.84-cp37-abi3-manylinux_2_17_x86_64.manylinux2014_x86_64.whl.metadata (20 kB)\n",
            "Collecting python-dotenv (from roboflow>=0.2.29->yolov5)\n",
            "  Downloading python_dotenv-1.0.1-py3-none-any.whl.metadata (23 kB)\n",
            "Requirement already satisfied: six in /usr/local/lib/python3.11/dist-packages (from roboflow>=0.2.29->yolov5) (1.17.0)\n",
            "Requirement already satisfied: requests-toolbelt in /usr/local/lib/python3.11/dist-packages (from roboflow>=0.2.29->yolov5) (1.0.0)\n",
            "Collecting filetype (from roboflow>=0.2.29->yolov5)\n",
            "  Downloading filetype-1.2.0-py2.py3-none-any.whl.metadata (6.5 kB)\n",
            "Requirement already satisfied: shapely>=2.0.0 in /usr/local/lib/python3.11/dist-packages (from sahi>=0.11.10->yolov5) (2.0.6)\n",
            "Collecting pybboxes==0.1.6 (from sahi>=0.11.10->yolov5)\n",
            "  Downloading pybboxes-0.1.6-py3-none-any.whl.metadata (9.9 kB)\n",
            "Collecting terminaltables (from sahi>=0.11.10->yolov5)\n",
            "  Downloading terminaltables-3.1.10-py2.py3-none-any.whl.metadata (3.5 kB)\n",
            "Requirement already satisfied: click in /usr/local/lib/python3.11/dist-packages (from sahi>=0.11.10->yolov5) (8.1.8)\n",
            "Requirement already satisfied: absl-py>=0.4 in /usr/local/lib/python3.11/dist-packages (from tensorboard>=2.4.1->yolov5) (1.4.0)\n",
            "Requirement already satisfied: grpcio>=1.48.2 in /usr/local/lib/python3.11/dist-packages (from tensorboard>=2.4.1->yolov5) (1.70.0)\n",
            "Requirement already satisfied: markdown>=2.6.8 in /usr/local/lib/python3.11/dist-packages (from tensorboard>=2.4.1->yolov5) (3.7)\n",
            "Requirement already satisfied: protobuf!=4.24.0,>=3.19.6 in /usr/local/lib/python3.11/dist-packages (from tensorboard>=2.4.1->yolov5) (4.25.6)\n",
            "Requirement already satisfied: tensorboard-data-server<0.8.0,>=0.7.0 in /usr/local/lib/python3.11/dist-packages (from tensorboard>=2.4.1->yolov5) (0.7.2)\n",
            "Requirement already satisfied: werkzeug>=1.0.1 in /usr/local/lib/python3.11/dist-packages (from tensorboard>=2.4.1->yolov5) (3.1.3)\n",
            "Requirement already satisfied: networkx in /usr/local/lib/python3.11/dist-packages (from torch>=1.7.0->yolov5) (3.4.2)\n",
            "Requirement already satisfied: jinja2 in /usr/local/lib/python3.11/dist-packages (from torch>=1.7.0->yolov5) (3.1.5)\n",
            "Requirement already satisfied: nvidia-cuda-nvrtc-cu12==12.4.127 in /usr/local/lib/python3.11/dist-packages (from torch>=1.7.0->yolov5) (12.4.127)\n",
            "Requirement already satisfied: nvidia-cuda-runtime-cu12==12.4.127 in /usr/local/lib/python3.11/dist-packages (from torch>=1.7.0->yolov5) (12.4.127)\n",
            "Requirement already satisfied: nvidia-cuda-cupti-cu12==12.4.127 in /usr/local/lib/python3.11/dist-packages (from torch>=1.7.0->yolov5) (12.4.127)\n",
            "Requirement already satisfied: nvidia-cudnn-cu12==9.1.0.70 in /usr/local/lib/python3.11/dist-packages (from torch>=1.7.0->yolov5) (9.1.0.70)\n",
            "Requirement already satisfied: nvidia-cublas-cu12==12.4.5.8 in /usr/local/lib/python3.11/dist-packages (from torch>=1.7.0->yolov5) (12.4.5.8)\n",
            "Requirement already satisfied: nvidia-cufft-cu12==11.2.1.3 in /usr/local/lib/python3.11/dist-packages (from torch>=1.7.0->yolov5) (11.2.1.3)\n",
            "Requirement already satisfied: nvidia-curand-cu12==10.3.5.147 in /usr/local/lib/python3.11/dist-packages (from torch>=1.7.0->yolov5) (10.3.5.147)\n",
            "Requirement already satisfied: nvidia-cusolver-cu12==11.6.1.9 in /usr/local/lib/python3.11/dist-packages (from torch>=1.7.0->yolov5) (11.6.1.9)\n",
            "Requirement already satisfied: nvidia-cusparse-cu12==12.3.1.170 in /usr/local/lib/python3.11/dist-packages (from torch>=1.7.0->yolov5) (12.3.1.170)\n",
            "Requirement already satisfied: nvidia-nccl-cu12==2.21.5 in /usr/local/lib/python3.11/dist-packages (from torch>=1.7.0->yolov5) (2.21.5)\n",
            "Requirement already satisfied: nvidia-nvtx-cu12==12.4.127 in /usr/local/lib/python3.11/dist-packages (from torch>=1.7.0->yolov5) (12.4.127)\n",
            "Requirement already satisfied: nvidia-nvjitlink-cu12==12.4.127 in /usr/local/lib/python3.11/dist-packages (from torch>=1.7.0->yolov5) (12.4.127)\n",
            "Requirement already satisfied: triton==3.1.0 in /usr/local/lib/python3.11/dist-packages (from torch>=1.7.0->yolov5) (3.1.0)\n",
            "Requirement already satisfied: sympy==1.13.1 in /usr/local/lib/python3.11/dist-packages (from torch>=1.7.0->yolov5) (1.13.1)\n",
            "Requirement already satisfied: mpmath<1.4,>=1.1.0 in /usr/local/lib/python3.11/dist-packages (from sympy==1.13.1->torch>=1.7.0->yolov5) (1.3.0)\n",
            "Requirement already satisfied: py-cpuinfo in /usr/local/lib/python3.11/dist-packages (from ultralytics>=8.0.100->yolov5) (9.0.0)\n",
            "Collecting ultralytics-thop>=2.0.0 (from ultralytics>=8.0.100->yolov5)\n",
            "  Downloading ultralytics_thop-2.0.14-py3-none-any.whl.metadata (9.4 kB)\n",
            "Requirement already satisfied: termcolor in /usr/local/lib/python3.11/dist-packages (from fire->yolov5) (2.5.0)\n",
            "Requirement already satisfied: smmap<6,>=3.0.1 in /usr/local/lib/python3.11/dist-packages (from gitdb<5,>=4.0.1->gitpython>=3.1.30->yolov5) (5.0.2)\n",
            "Requirement already satisfied: MarkupSafe>=2.1.1 in /usr/local/lib/python3.11/dist-packages (from werkzeug>=1.0.1->tensorboard>=2.4.1->yolov5) (3.0.2)\n",
            "Downloading yolov5-7.0.14-py37.py38.py39.py310-none-any.whl (953 kB)\n",
            "\u001b[2K   \u001b[90m━━━━━━━━━━━━━━━━━━━━━━━━━━━━━━━━━━━━━━━━\u001b[0m \u001b[32m953.5/953.5 kB\u001b[0m \u001b[31m32.4 MB/s\u001b[0m eta \u001b[36m0:00:00\u001b[0m\n",
            "\u001b[?25hDownloading boto3-1.36.11-py3-none-any.whl (139 kB)\n",
            "\u001b[2K   \u001b[90m━━━━━━━━━━━━━━━━━━━━━━━━━━━━━━━━━━━━━━━━\u001b[0m \u001b[32m139.2/139.2 kB\u001b[0m \u001b[31m14.5 MB/s\u001b[0m eta \u001b[36m0:00:00\u001b[0m\n",
            "\u001b[?25hDownloading huggingface_hub-0.24.7-py3-none-any.whl (417 kB)\n",
            "\u001b[2K   \u001b[90m━━━━━━━━━━━━━━━━━━━━━━━━━━━━━━━━━━━━━━━━\u001b[0m \u001b[32m417.5/417.5 kB\u001b[0m \u001b[31m38.5 MB/s\u001b[0m eta \u001b[36m0:00:00\u001b[0m\n",
            "\u001b[?25hDownloading roboflow-1.1.53-py3-none-any.whl (82 kB)\n",
            "\u001b[2K   \u001b[90m━━━━━━━━━━━━━━━━━━━━━━━━━━━━━━━━━━━━━━━━\u001b[0m \u001b[32m83.0/83.0 kB\u001b[0m \u001b[31m9.5 MB/s\u001b[0m eta \u001b[36m0:00:00\u001b[0m\n",
            "\u001b[?25hDownloading idna-3.7-py3-none-any.whl (66 kB)\n",
            "\u001b[2K   \u001b[90m━━━━━━━━━━━━━━━━━━━━━━━━━━━━━━━━━━━━━━━━\u001b[0m \u001b[32m66.8/66.8 kB\u001b[0m \u001b[31m7.2 MB/s\u001b[0m eta \u001b[36m0:00:00\u001b[0m\n",
            "\u001b[?25hDownloading opencv_python_headless-4.10.0.84-cp37-abi3-manylinux_2_17_x86_64.manylinux2014_x86_64.whl (49.9 MB)\n",
            "\u001b[2K   \u001b[90m━━━━━━━━━━━━━━━━━━━━━━━━━━━━━━━━━━━━━━━━\u001b[0m \u001b[32m49.9/49.9 MB\u001b[0m \u001b[31m13.5 MB/s\u001b[0m eta \u001b[36m0:00:00\u001b[0m\n",
            "\u001b[?25hDownloading sahi-0.11.20-py3-none-any.whl (112 kB)\n",
            "\u001b[2K   \u001b[90m━━━━━━━━━━━━━━━━━━━━━━━━━━━━━━━━━━━━━━━━\u001b[0m \u001b[32m112.4/112.4 kB\u001b[0m \u001b[31m10.9 MB/s\u001b[0m eta \u001b[36m0:00:00\u001b[0m\n",
            "\u001b[?25hDownloading pybboxes-0.1.6-py3-none-any.whl (24 kB)\n",
            "Downloading thop-0.1.1.post2209072238-py3-none-any.whl (15 kB)\n",
            "Downloading ultralytics-8.3.70-py3-none-any.whl (914 kB)\n",
            "\u001b[2K   \u001b[90m━━━━━━━━━━━━━━━━━━━━━━━━━━━━━━━━━━━━━━━━\u001b[0m \u001b[32m914.9/914.9 kB\u001b[0m \u001b[31m57.1 MB/s\u001b[0m eta \u001b[36m0:00:00\u001b[0m\n",
            "\u001b[?25hDownloading botocore-1.36.11-py3-none-any.whl (13.3 MB)\n",
            "\u001b[2K   \u001b[90m━━━━━━━━━━━━━━━━━━━━━━━━━━━━━━━━━━━━━━━━\u001b[0m \u001b[32m13.3/13.3 MB\u001b[0m \u001b[31m110.0 MB/s\u001b[0m eta \u001b[36m0:00:00\u001b[0m\n",
            "\u001b[?25hDownloading jmespath-1.0.1-py3-none-any.whl (20 kB)\n",
            "Downloading s3transfer-0.11.2-py3-none-any.whl (84 kB)\n",
            "\u001b[2K   \u001b[90m━━━━━━━━━━━━━━━━━━━━━━━━━━━━━━━━━━━━━━━━\u001b[0m \u001b[32m84.2/84.2 kB\u001b[0m \u001b[31m8.9 MB/s\u001b[0m eta \u001b[36m0:00:00\u001b[0m\n",
            "\u001b[?25hDownloading ultralytics_thop-2.0.14-py3-none-any.whl (26 kB)\n",
            "Downloading filetype-1.2.0-py2.py3-none-any.whl (19 kB)\n",
            "Downloading python_dotenv-1.0.1-py3-none-any.whl (19 kB)\n",
            "Downloading terminaltables-3.1.10-py2.py3-none-any.whl (15 kB)\n",
            "Building wheels for collected packages: fire\n",
            "  Building wheel for fire (setup.py) ... \u001b[?25l\u001b[?25hdone\n",
            "  Created wheel for fire: filename=fire-0.7.0-py3-none-any.whl size=114249 sha256=8f6892a5c7f7955413238c083c180a6430febddefb2eda151d3a5fbbd2b6eb68\n",
            "  Stored in directory: /root/.cache/pip/wheels/46/54/24/1624fd5b8674eb1188623f7e8e17cdf7c0f6c24b609dfb8a89\n",
            "Successfully built fire\n",
            "Installing collected packages: filetype, terminaltables, python-dotenv, pybboxes, opencv-python-headless, jmespath, idna, fire, botocore, sahi, s3transfer, huggingface-hub, ultralytics-thop, thop, roboflow, boto3, ultralytics, yolov5\n",
            "  Attempting uninstall: opencv-python-headless\n",
            "    Found existing installation: opencv-python-headless 4.11.0.86\n",
            "    Uninstalling opencv-python-headless-4.11.0.86:\n",
            "      Successfully uninstalled opencv-python-headless-4.11.0.86\n",
            "  Attempting uninstall: idna\n",
            "    Found existing installation: idna 3.10\n",
            "    Uninstalling idna-3.10:\n",
            "      Successfully uninstalled idna-3.10\n",
            "  Attempting uninstall: huggingface-hub\n",
            "    Found existing installation: huggingface-hub 0.27.1\n",
            "    Uninstalling huggingface-hub-0.27.1:\n",
            "      Successfully uninstalled huggingface-hub-0.27.1\n",
            "\u001b[31mERROR: pip's dependency resolver does not currently take into account all the packages that are installed. This behaviour is the source of the following dependency conflicts.\n",
            "peft 0.14.0 requires huggingface-hub>=0.25.0, but you have huggingface-hub 0.24.7 which is incompatible.\u001b[0m\u001b[31m\n",
            "\u001b[0mSuccessfully installed boto3-1.36.11 botocore-1.36.11 filetype-1.2.0 fire-0.7.0 huggingface-hub-0.24.7 idna-3.7 jmespath-1.0.1 opencv-python-headless-4.10.0.84 pybboxes-0.1.6 python-dotenv-1.0.1 roboflow-1.1.53 s3transfer-0.11.2 sahi-0.11.20 terminaltables-3.1.10 thop-0.1.1.post2209072238 ultralytics-8.3.70 ultralytics-thop-2.0.14 yolov5-7.0.14\n"
          ]
        }
      ]
    },
    {
      "cell_type": "code",
      "source": [
        "!git clone https://github.com/ultralytics/yolov5  # clone\n",
        "%cd yolov5\n",
        "!pip install -r requirements.txt  # install"
      ],
      "metadata": {
        "colab": {
          "base_uri": "https://localhost:8080/"
        },
        "id": "7rE9XbtkGKN7",
        "outputId": "001b6dbc-a19d-4617-b6b6-b2144c2aa28c"
      },
      "execution_count": null,
      "outputs": [
        {
          "output_type": "stream",
          "name": "stdout",
          "text": [
            "Cloning into 'yolov5'...\n",
            "remote: Enumerating objects: 17270, done.\u001b[K\n",
            "remote: Counting objects: 100% (5/5), done.\u001b[K\n",
            "remote: Compressing objects: 100% (5/5), done.\u001b[K\n",
            "remote: Total 17270 (delta 0), reused 0 (delta 0), pack-reused 17265 (from 1)\u001b[K\n",
            "Receiving objects: 100% (17270/17270), 16.12 MiB | 28.40 MiB/s, done.\n",
            "Resolving deltas: 100% (11858/11858), done.\n",
            "/content/yolov5\n",
            "Requirement already satisfied: gitpython>=3.1.30 in /usr/local/lib/python3.11/dist-packages (from -r requirements.txt (line 5)) (3.1.44)\n",
            "Requirement already satisfied: matplotlib>=3.3 in /usr/local/lib/python3.11/dist-packages (from -r requirements.txt (line 6)) (3.10.0)\n",
            "Requirement already satisfied: numpy>=1.23.5 in /usr/local/lib/python3.11/dist-packages (from -r requirements.txt (line 7)) (1.26.4)\n",
            "Requirement already satisfied: opencv-python>=4.1.1 in /usr/local/lib/python3.11/dist-packages (from -r requirements.txt (line 8)) (4.10.0.84)\n",
            "Requirement already satisfied: pillow>=10.3.0 in /usr/local/lib/python3.11/dist-packages (from -r requirements.txt (line 9)) (11.1.0)\n",
            "Requirement already satisfied: psutil in /usr/local/lib/python3.11/dist-packages (from -r requirements.txt (line 10)) (5.9.5)\n",
            "Requirement already satisfied: PyYAML>=5.3.1 in /usr/local/lib/python3.11/dist-packages (from -r requirements.txt (line 11)) (6.0.2)\n",
            "Requirement already satisfied: requests>=2.32.2 in /usr/local/lib/python3.11/dist-packages (from -r requirements.txt (line 12)) (2.32.3)\n",
            "Requirement already satisfied: scipy>=1.4.1 in /usr/local/lib/python3.11/dist-packages (from -r requirements.txt (line 13)) (1.13.1)\n",
            "Requirement already satisfied: thop>=0.1.1 in /usr/local/lib/python3.11/dist-packages (from -r requirements.txt (line 14)) (0.1.1.post2209072238)\n",
            "Requirement already satisfied: torch>=1.8.0 in /usr/local/lib/python3.11/dist-packages (from -r requirements.txt (line 15)) (2.5.1+cu124)\n",
            "Requirement already satisfied: torchvision>=0.9.0 in /usr/local/lib/python3.11/dist-packages (from -r requirements.txt (line 16)) (0.20.1+cu124)\n",
            "Requirement already satisfied: tqdm>=4.66.3 in /usr/local/lib/python3.11/dist-packages (from -r requirements.txt (line 17)) (4.67.1)\n",
            "Requirement already satisfied: ultralytics>=8.2.34 in /usr/local/lib/python3.11/dist-packages (from -r requirements.txt (line 18)) (8.3.70)\n",
            "Requirement already satisfied: pandas>=1.1.4 in /usr/local/lib/python3.11/dist-packages (from -r requirements.txt (line 27)) (2.2.2)\n",
            "Requirement already satisfied: seaborn>=0.11.0 in /usr/local/lib/python3.11/dist-packages (from -r requirements.txt (line 28)) (0.13.2)\n",
            "Requirement already satisfied: setuptools>=70.0.0 in /usr/local/lib/python3.11/dist-packages (from -r requirements.txt (line 42)) (75.1.0)\n",
            "Requirement already satisfied: gitdb<5,>=4.0.1 in /usr/local/lib/python3.11/dist-packages (from gitpython>=3.1.30->-r requirements.txt (line 5)) (4.0.12)\n",
            "Requirement already satisfied: contourpy>=1.0.1 in /usr/local/lib/python3.11/dist-packages (from matplotlib>=3.3->-r requirements.txt (line 6)) (1.3.1)\n",
            "Requirement already satisfied: cycler>=0.10 in /usr/local/lib/python3.11/dist-packages (from matplotlib>=3.3->-r requirements.txt (line 6)) (0.12.1)\n",
            "Requirement already satisfied: fonttools>=4.22.0 in /usr/local/lib/python3.11/dist-packages (from matplotlib>=3.3->-r requirements.txt (line 6)) (4.55.7)\n",
            "Requirement already satisfied: kiwisolver>=1.3.1 in /usr/local/lib/python3.11/dist-packages (from matplotlib>=3.3->-r requirements.txt (line 6)) (1.4.8)\n",
            "Requirement already satisfied: packaging>=20.0 in /usr/local/lib/python3.11/dist-packages (from matplotlib>=3.3->-r requirements.txt (line 6)) (24.2)\n",
            "Requirement already satisfied: pyparsing>=2.3.1 in /usr/local/lib/python3.11/dist-packages (from matplotlib>=3.3->-r requirements.txt (line 6)) (3.2.1)\n",
            "Requirement already satisfied: python-dateutil>=2.7 in /usr/local/lib/python3.11/dist-packages (from matplotlib>=3.3->-r requirements.txt (line 6)) (2.8.2)\n",
            "Requirement already satisfied: charset-normalizer<4,>=2 in /usr/local/lib/python3.11/dist-packages (from requests>=2.32.2->-r requirements.txt (line 12)) (3.4.1)\n",
            "Requirement already satisfied: idna<4,>=2.5 in /usr/local/lib/python3.11/dist-packages (from requests>=2.32.2->-r requirements.txt (line 12)) (3.7)\n",
            "Requirement already satisfied: urllib3<3,>=1.21.1 in /usr/local/lib/python3.11/dist-packages (from requests>=2.32.2->-r requirements.txt (line 12)) (2.3.0)\n",
            "Requirement already satisfied: certifi>=2017.4.17 in /usr/local/lib/python3.11/dist-packages (from requests>=2.32.2->-r requirements.txt (line 12)) (2024.12.14)\n",
            "Requirement already satisfied: filelock in /usr/local/lib/python3.11/dist-packages (from torch>=1.8.0->-r requirements.txt (line 15)) (3.17.0)\n",
            "Requirement already satisfied: typing-extensions>=4.8.0 in /usr/local/lib/python3.11/dist-packages (from torch>=1.8.0->-r requirements.txt (line 15)) (4.12.2)\n",
            "Requirement already satisfied: networkx in /usr/local/lib/python3.11/dist-packages (from torch>=1.8.0->-r requirements.txt (line 15)) (3.4.2)\n",
            "Requirement already satisfied: jinja2 in /usr/local/lib/python3.11/dist-packages (from torch>=1.8.0->-r requirements.txt (line 15)) (3.1.5)\n",
            "Requirement already satisfied: fsspec in /usr/local/lib/python3.11/dist-packages (from torch>=1.8.0->-r requirements.txt (line 15)) (2024.10.0)\n",
            "Requirement already satisfied: nvidia-cuda-nvrtc-cu12==12.4.127 in /usr/local/lib/python3.11/dist-packages (from torch>=1.8.0->-r requirements.txt (line 15)) (12.4.127)\n",
            "Requirement already satisfied: nvidia-cuda-runtime-cu12==12.4.127 in /usr/local/lib/python3.11/dist-packages (from torch>=1.8.0->-r requirements.txt (line 15)) (12.4.127)\n",
            "Requirement already satisfied: nvidia-cuda-cupti-cu12==12.4.127 in /usr/local/lib/python3.11/dist-packages (from torch>=1.8.0->-r requirements.txt (line 15)) (12.4.127)\n",
            "Requirement already satisfied: nvidia-cudnn-cu12==9.1.0.70 in /usr/local/lib/python3.11/dist-packages (from torch>=1.8.0->-r requirements.txt (line 15)) (9.1.0.70)\n",
            "Requirement already satisfied: nvidia-cublas-cu12==12.4.5.8 in /usr/local/lib/python3.11/dist-packages (from torch>=1.8.0->-r requirements.txt (line 15)) (12.4.5.8)\n",
            "Requirement already satisfied: nvidia-cufft-cu12==11.2.1.3 in /usr/local/lib/python3.11/dist-packages (from torch>=1.8.0->-r requirements.txt (line 15)) (11.2.1.3)\n",
            "Requirement already satisfied: nvidia-curand-cu12==10.3.5.147 in /usr/local/lib/python3.11/dist-packages (from torch>=1.8.0->-r requirements.txt (line 15)) (10.3.5.147)\n",
            "Requirement already satisfied: nvidia-cusolver-cu12==11.6.1.9 in /usr/local/lib/python3.11/dist-packages (from torch>=1.8.0->-r requirements.txt (line 15)) (11.6.1.9)\n",
            "Requirement already satisfied: nvidia-cusparse-cu12==12.3.1.170 in /usr/local/lib/python3.11/dist-packages (from torch>=1.8.0->-r requirements.txt (line 15)) (12.3.1.170)\n",
            "Requirement already satisfied: nvidia-nccl-cu12==2.21.5 in /usr/local/lib/python3.11/dist-packages (from torch>=1.8.0->-r requirements.txt (line 15)) (2.21.5)\n",
            "Requirement already satisfied: nvidia-nvtx-cu12==12.4.127 in /usr/local/lib/python3.11/dist-packages (from torch>=1.8.0->-r requirements.txt (line 15)) (12.4.127)\n",
            "Requirement already satisfied: nvidia-nvjitlink-cu12==12.4.127 in /usr/local/lib/python3.11/dist-packages (from torch>=1.8.0->-r requirements.txt (line 15)) (12.4.127)\n",
            "Requirement already satisfied: triton==3.1.0 in /usr/local/lib/python3.11/dist-packages (from torch>=1.8.0->-r requirements.txt (line 15)) (3.1.0)\n",
            "Requirement already satisfied: sympy==1.13.1 in /usr/local/lib/python3.11/dist-packages (from torch>=1.8.0->-r requirements.txt (line 15)) (1.13.1)\n",
            "Requirement already satisfied: mpmath<1.4,>=1.1.0 in /usr/local/lib/python3.11/dist-packages (from sympy==1.13.1->torch>=1.8.0->-r requirements.txt (line 15)) (1.3.0)\n",
            "Requirement already satisfied: py-cpuinfo in /usr/local/lib/python3.11/dist-packages (from ultralytics>=8.2.34->-r requirements.txt (line 18)) (9.0.0)\n",
            "Requirement already satisfied: ultralytics-thop>=2.0.0 in /usr/local/lib/python3.11/dist-packages (from ultralytics>=8.2.34->-r requirements.txt (line 18)) (2.0.14)\n",
            "Requirement already satisfied: pytz>=2020.1 in /usr/local/lib/python3.11/dist-packages (from pandas>=1.1.4->-r requirements.txt (line 27)) (2024.2)\n",
            "Requirement already satisfied: tzdata>=2022.7 in /usr/local/lib/python3.11/dist-packages (from pandas>=1.1.4->-r requirements.txt (line 27)) (2025.1)\n",
            "Requirement already satisfied: smmap<6,>=3.0.1 in /usr/local/lib/python3.11/dist-packages (from gitdb<5,>=4.0.1->gitpython>=3.1.30->-r requirements.txt (line 5)) (5.0.2)\n",
            "Requirement already satisfied: six>=1.5 in /usr/local/lib/python3.11/dist-packages (from python-dateutil>=2.7->matplotlib>=3.3->-r requirements.txt (line 6)) (1.17.0)\n",
            "Requirement already satisfied: MarkupSafe>=2.0 in /usr/local/lib/python3.11/dist-packages (from jinja2->torch>=1.8.0->-r requirements.txt (line 15)) (3.0.2)\n"
          ]
        }
      ]
    },
    {
      "cell_type": "code",
      "source": [
        "!pip install ultralytics"
      ],
      "metadata": {
        "colab": {
          "base_uri": "https://localhost:8080/"
        },
        "id": "6T59KfYEz_sA",
        "outputId": "7d44cef1-3d06-47e8-ba28-7422d07aed01"
      },
      "execution_count": null,
      "outputs": [
        {
          "output_type": "stream",
          "name": "stdout",
          "text": [
            "Requirement already satisfied: ultralytics in /usr/local/lib/python3.11/dist-packages (8.3.70)\n",
            "Requirement already satisfied: numpy<=2.1.1,>=1.23.0 in /usr/local/lib/python3.11/dist-packages (from ultralytics) (1.26.4)\n",
            "Requirement already satisfied: matplotlib>=3.3.0 in /usr/local/lib/python3.11/dist-packages (from ultralytics) (3.10.0)\n",
            "Requirement already satisfied: opencv-python>=4.6.0 in /usr/local/lib/python3.11/dist-packages (from ultralytics) (4.10.0.84)\n",
            "Requirement already satisfied: pillow>=7.1.2 in /usr/local/lib/python3.11/dist-packages (from ultralytics) (11.1.0)\n",
            "Requirement already satisfied: pyyaml>=5.3.1 in /usr/local/lib/python3.11/dist-packages (from ultralytics) (6.0.2)\n",
            "Requirement already satisfied: requests>=2.23.0 in /usr/local/lib/python3.11/dist-packages (from ultralytics) (2.32.3)\n",
            "Requirement already satisfied: scipy>=1.4.1 in /usr/local/lib/python3.11/dist-packages (from ultralytics) (1.13.1)\n",
            "Requirement already satisfied: torch>=1.8.0 in /usr/local/lib/python3.11/dist-packages (from ultralytics) (2.5.1+cu124)\n",
            "Requirement already satisfied: torchvision>=0.9.0 in /usr/local/lib/python3.11/dist-packages (from ultralytics) (0.20.1+cu124)\n",
            "Requirement already satisfied: tqdm>=4.64.0 in /usr/local/lib/python3.11/dist-packages (from ultralytics) (4.67.1)\n",
            "Requirement already satisfied: psutil in /usr/local/lib/python3.11/dist-packages (from ultralytics) (5.9.5)\n",
            "Requirement already satisfied: py-cpuinfo in /usr/local/lib/python3.11/dist-packages (from ultralytics) (9.0.0)\n",
            "Requirement already satisfied: pandas>=1.1.4 in /usr/local/lib/python3.11/dist-packages (from ultralytics) (2.2.2)\n",
            "Requirement already satisfied: seaborn>=0.11.0 in /usr/local/lib/python3.11/dist-packages (from ultralytics) (0.13.2)\n",
            "Requirement already satisfied: ultralytics-thop>=2.0.0 in /usr/local/lib/python3.11/dist-packages (from ultralytics) (2.0.14)\n",
            "Requirement already satisfied: contourpy>=1.0.1 in /usr/local/lib/python3.11/dist-packages (from matplotlib>=3.3.0->ultralytics) (1.3.1)\n",
            "Requirement already satisfied: cycler>=0.10 in /usr/local/lib/python3.11/dist-packages (from matplotlib>=3.3.0->ultralytics) (0.12.1)\n",
            "Requirement already satisfied: fonttools>=4.22.0 in /usr/local/lib/python3.11/dist-packages (from matplotlib>=3.3.0->ultralytics) (4.55.7)\n",
            "Requirement already satisfied: kiwisolver>=1.3.1 in /usr/local/lib/python3.11/dist-packages (from matplotlib>=3.3.0->ultralytics) (1.4.8)\n",
            "Requirement already satisfied: packaging>=20.0 in /usr/local/lib/python3.11/dist-packages (from matplotlib>=3.3.0->ultralytics) (24.2)\n",
            "Requirement already satisfied: pyparsing>=2.3.1 in /usr/local/lib/python3.11/dist-packages (from matplotlib>=3.3.0->ultralytics) (3.2.1)\n",
            "Requirement already satisfied: python-dateutil>=2.7 in /usr/local/lib/python3.11/dist-packages (from matplotlib>=3.3.0->ultralytics) (2.8.2)\n",
            "Requirement already satisfied: pytz>=2020.1 in /usr/local/lib/python3.11/dist-packages (from pandas>=1.1.4->ultralytics) (2024.2)\n",
            "Requirement already satisfied: tzdata>=2022.7 in /usr/local/lib/python3.11/dist-packages (from pandas>=1.1.4->ultralytics) (2025.1)\n",
            "Requirement already satisfied: charset-normalizer<4,>=2 in /usr/local/lib/python3.11/dist-packages (from requests>=2.23.0->ultralytics) (3.4.1)\n",
            "Requirement already satisfied: idna<4,>=2.5 in /usr/local/lib/python3.11/dist-packages (from requests>=2.23.0->ultralytics) (3.7)\n",
            "Requirement already satisfied: urllib3<3,>=1.21.1 in /usr/local/lib/python3.11/dist-packages (from requests>=2.23.0->ultralytics) (2.3.0)\n",
            "Requirement already satisfied: certifi>=2017.4.17 in /usr/local/lib/python3.11/dist-packages (from requests>=2.23.0->ultralytics) (2024.12.14)\n",
            "Requirement already satisfied: filelock in /usr/local/lib/python3.11/dist-packages (from torch>=1.8.0->ultralytics) (3.17.0)\n",
            "Requirement already satisfied: typing-extensions>=4.8.0 in /usr/local/lib/python3.11/dist-packages (from torch>=1.8.0->ultralytics) (4.12.2)\n",
            "Requirement already satisfied: networkx in /usr/local/lib/python3.11/dist-packages (from torch>=1.8.0->ultralytics) (3.4.2)\n",
            "Requirement already satisfied: jinja2 in /usr/local/lib/python3.11/dist-packages (from torch>=1.8.0->ultralytics) (3.1.5)\n",
            "Requirement already satisfied: fsspec in /usr/local/lib/python3.11/dist-packages (from torch>=1.8.0->ultralytics) (2024.10.0)\n",
            "Requirement already satisfied: nvidia-cuda-nvrtc-cu12==12.4.127 in /usr/local/lib/python3.11/dist-packages (from torch>=1.8.0->ultralytics) (12.4.127)\n",
            "Requirement already satisfied: nvidia-cuda-runtime-cu12==12.4.127 in /usr/local/lib/python3.11/dist-packages (from torch>=1.8.0->ultralytics) (12.4.127)\n",
            "Requirement already satisfied: nvidia-cuda-cupti-cu12==12.4.127 in /usr/local/lib/python3.11/dist-packages (from torch>=1.8.0->ultralytics) (12.4.127)\n",
            "Requirement already satisfied: nvidia-cudnn-cu12==9.1.0.70 in /usr/local/lib/python3.11/dist-packages (from torch>=1.8.0->ultralytics) (9.1.0.70)\n",
            "Requirement already satisfied: nvidia-cublas-cu12==12.4.5.8 in /usr/local/lib/python3.11/dist-packages (from torch>=1.8.0->ultralytics) (12.4.5.8)\n",
            "Requirement already satisfied: nvidia-cufft-cu12==11.2.1.3 in /usr/local/lib/python3.11/dist-packages (from torch>=1.8.0->ultralytics) (11.2.1.3)\n",
            "Requirement already satisfied: nvidia-curand-cu12==10.3.5.147 in /usr/local/lib/python3.11/dist-packages (from torch>=1.8.0->ultralytics) (10.3.5.147)\n",
            "Requirement already satisfied: nvidia-cusolver-cu12==11.6.1.9 in /usr/local/lib/python3.11/dist-packages (from torch>=1.8.0->ultralytics) (11.6.1.9)\n",
            "Requirement already satisfied: nvidia-cusparse-cu12==12.3.1.170 in /usr/local/lib/python3.11/dist-packages (from torch>=1.8.0->ultralytics) (12.3.1.170)\n",
            "Requirement already satisfied: nvidia-nccl-cu12==2.21.5 in /usr/local/lib/python3.11/dist-packages (from torch>=1.8.0->ultralytics) (2.21.5)\n",
            "Requirement already satisfied: nvidia-nvtx-cu12==12.4.127 in /usr/local/lib/python3.11/dist-packages (from torch>=1.8.0->ultralytics) (12.4.127)\n",
            "Requirement already satisfied: nvidia-nvjitlink-cu12==12.4.127 in /usr/local/lib/python3.11/dist-packages (from torch>=1.8.0->ultralytics) (12.4.127)\n",
            "Requirement already satisfied: triton==3.1.0 in /usr/local/lib/python3.11/dist-packages (from torch>=1.8.0->ultralytics) (3.1.0)\n",
            "Requirement already satisfied: sympy==1.13.1 in /usr/local/lib/python3.11/dist-packages (from torch>=1.8.0->ultralytics) (1.13.1)\n",
            "Requirement already satisfied: mpmath<1.4,>=1.1.0 in /usr/local/lib/python3.11/dist-packages (from sympy==1.13.1->torch>=1.8.0->ultralytics) (1.3.0)\n",
            "Requirement already satisfied: six>=1.5 in /usr/local/lib/python3.11/dist-packages (from python-dateutil>=2.7->matplotlib>=3.3.0->ultralytics) (1.17.0)\n",
            "Requirement already satisfied: MarkupSafe>=2.0 in /usr/local/lib/python3.11/dist-packages (from jinja2->torch>=1.8.0->ultralytics) (3.0.2)\n"
          ]
        }
      ]
    },
    {
      "cell_type": "code",
      "source": [
        "from ultralytics import YOLO"
      ],
      "metadata": {
        "id": "cpefdo2uDVcl"
      },
      "execution_count": null,
      "outputs": []
    },
    {
      "cell_type": "code",
      "source": [
        "from ultralytics import YOLO\n",
        "\n",
        "# Load YOLOv8 model\n",
        "model = YOLO(\"yolov8n.pt\")\n",
        "\n",
        "# Train with augmentations\n",
        "model.train(data=\"/content/dataset.yml\", epochs=50, imgsz=1280, augment=True)"
      ],
      "metadata": {
        "colab": {
          "base_uri": "https://localhost:8080/"
        },
        "id": "U0kC3XcjD8bR",
        "outputId": "c97312f4-4d8a-4fbe-b0f2-3be141c01d3b"
      },
      "execution_count": null,
      "outputs": [
        {
          "output_type": "stream",
          "name": "stdout",
          "text": [
            "Ultralytics 8.3.70 🚀 Python-3.11.11 torch-2.5.1+cu124 CUDA:0 (Tesla T4, 15095MiB)\n",
            "\u001b[34m\u001b[1mengine/trainer: \u001b[0mtask=detect, mode=train, model=yolov8n.pt, data=/content/dataset.yml, epochs=50, time=None, patience=100, batch=16, imgsz=1280, save=True, save_period=-1, cache=False, device=None, workers=8, project=None, name=train3, exist_ok=False, pretrained=True, optimizer=auto, verbose=True, seed=0, deterministic=True, single_cls=False, rect=False, cos_lr=False, close_mosaic=10, resume=False, amp=True, fraction=1.0, profile=False, freeze=None, multi_scale=False, overlap_mask=True, mask_ratio=4, dropout=0.0, val=True, split=val, save_json=False, save_hybrid=False, conf=None, iou=0.7, max_det=300, half=False, dnn=False, plots=True, source=None, vid_stride=1, stream_buffer=False, visualize=False, augment=True, agnostic_nms=False, classes=None, retina_masks=False, embed=None, show=False, save_frames=False, save_txt=False, save_conf=False, save_crop=False, show_labels=True, show_conf=True, show_boxes=True, line_width=None, format=torchscript, keras=False, optimize=False, int8=False, dynamic=False, simplify=True, opset=None, workspace=None, nms=False, lr0=0.01, lrf=0.01, momentum=0.937, weight_decay=0.0005, warmup_epochs=3.0, warmup_momentum=0.8, warmup_bias_lr=0.1, box=7.5, cls=0.5, dfl=1.5, pose=12.0, kobj=1.0, nbs=64, hsv_h=0.015, hsv_s=0.7, hsv_v=0.4, degrees=0.0, translate=0.1, scale=0.5, shear=0.0, perspective=0.0, flipud=0.0, fliplr=0.5, bgr=0.0, mosaic=1.0, mixup=0.0, copy_paste=0.0, copy_paste_mode=flip, auto_augment=randaugment, erasing=0.4, crop_fraction=1.0, cfg=None, tracker=botsort.yaml, save_dir=runs/detect/train3\n",
            "Overriding model.yaml nc=80 with nc=1\n",
            "\n",
            "                   from  n    params  module                                       arguments                     \n",
            "  0                  -1  1       464  ultralytics.nn.modules.conv.Conv             [3, 16, 3, 2]                 \n",
            "  1                  -1  1      4672  ultralytics.nn.modules.conv.Conv             [16, 32, 3, 2]                \n",
            "  2                  -1  1      7360  ultralytics.nn.modules.block.C2f             [32, 32, 1, True]             \n",
            "  3                  -1  1     18560  ultralytics.nn.modules.conv.Conv             [32, 64, 3, 2]                \n",
            "  4                  -1  2     49664  ultralytics.nn.modules.block.C2f             [64, 64, 2, True]             \n",
            "  5                  -1  1     73984  ultralytics.nn.modules.conv.Conv             [64, 128, 3, 2]               \n",
            "  6                  -1  2    197632  ultralytics.nn.modules.block.C2f             [128, 128, 2, True]           \n",
            "  7                  -1  1    295424  ultralytics.nn.modules.conv.Conv             [128, 256, 3, 2]              \n",
            "  8                  -1  1    460288  ultralytics.nn.modules.block.C2f             [256, 256, 1, True]           \n",
            "  9                  -1  1    164608  ultralytics.nn.modules.block.SPPF            [256, 256, 5]                 \n",
            " 10                  -1  1         0  torch.nn.modules.upsampling.Upsample         [None, 2, 'nearest']          \n",
            " 11             [-1, 6]  1         0  ultralytics.nn.modules.conv.Concat           [1]                           \n",
            " 12                  -1  1    148224  ultralytics.nn.modules.block.C2f             [384, 128, 1]                 \n",
            " 13                  -1  1         0  torch.nn.modules.upsampling.Upsample         [None, 2, 'nearest']          \n",
            " 14             [-1, 4]  1         0  ultralytics.nn.modules.conv.Concat           [1]                           \n",
            " 15                  -1  1     37248  ultralytics.nn.modules.block.C2f             [192, 64, 1]                  \n",
            " 16                  -1  1     36992  ultralytics.nn.modules.conv.Conv             [64, 64, 3, 2]                \n",
            " 17            [-1, 12]  1         0  ultralytics.nn.modules.conv.Concat           [1]                           \n",
            " 18                  -1  1    123648  ultralytics.nn.modules.block.C2f             [192, 128, 1]                 \n",
            " 19                  -1  1    147712  ultralytics.nn.modules.conv.Conv             [128, 128, 3, 2]              \n",
            " 20             [-1, 9]  1         0  ultralytics.nn.modules.conv.Concat           [1]                           \n",
            " 21                  -1  1    493056  ultralytics.nn.modules.block.C2f             [384, 256, 1]                 \n",
            " 22        [15, 18, 21]  1    751507  ultralytics.nn.modules.head.Detect           [1, [64, 128, 256]]           \n",
            "Model summary: 225 layers, 3,011,043 parameters, 3,011,027 gradients, 8.2 GFLOPs\n",
            "\n",
            "Transferred 319/355 items from pretrained weights\n",
            "\u001b[34m\u001b[1mTensorBoard: \u001b[0mStart with 'tensorboard --logdir runs/detect/train3', view at http://localhost:6006/\n",
            "Freezing layer 'model.22.dfl.conv.weight'\n",
            "\u001b[34m\u001b[1mAMP: \u001b[0mrunning Automatic Mixed Precision (AMP) checks...\n",
            "\u001b[34m\u001b[1mAMP: \u001b[0mchecks passed ✅\n"
          ]
        },
        {
          "output_type": "stream",
          "name": "stderr",
          "text": [
            "\u001b[34m\u001b[1mtrain: \u001b[0mScanning /content/Yolo__Data/train.cache... 184 images, 0 backgrounds, 0 corrupt: 100%|██████████| 184/184 [00:00<?, ?it/s]"
          ]
        },
        {
          "output_type": "stream",
          "name": "stdout",
          "text": [
            "\u001b[34m\u001b[1malbumentations: \u001b[0mBlur(p=0.01, blur_limit=(3, 7)), MedianBlur(p=0.01, blur_limit=(3, 7)), ToGray(p=0.01, num_output_channels=3, method='weighted_average'), CLAHE(p=0.01, clip_limit=(1.0, 4.0), tile_grid_size=(8, 8))\n"
          ]
        },
        {
          "output_type": "stream",
          "name": "stderr",
          "text": [
            "\n",
            "\u001b[34m\u001b[1mval: \u001b[0mScanning /content/Yolo__Data/val.cache... 24 images, 0 backgrounds, 0 corrupt: 100%|██████████| 24/24 [00:00<?, ?it/s]\n"
          ]
        },
        {
          "output_type": "stream",
          "name": "stdout",
          "text": [
            "Plotting labels to runs/detect/train3/labels.jpg... \n",
            "\u001b[34m\u001b[1moptimizer:\u001b[0m 'optimizer=auto' found, ignoring 'lr0=0.01' and 'momentum=0.937' and determining best 'optimizer', 'lr0' and 'momentum' automatically... \n",
            "\u001b[34m\u001b[1moptimizer:\u001b[0m AdamW(lr=0.002, momentum=0.9) with parameter groups 57 weight(decay=0.0), 64 weight(decay=0.0005), 63 bias(decay=0.0)\n",
            "\u001b[34m\u001b[1mTensorBoard: \u001b[0mmodel graph visualization added ✅\n",
            "Image sizes 1280 train, 1280 val\n",
            "Using 2 dataloader workers\n",
            "Logging results to \u001b[1mruns/detect/train3\u001b[0m\n",
            "Starting training for 50 epochs...\n",
            "\n",
            "      Epoch    GPU_mem   box_loss   cls_loss   dfl_loss  Instances       Size\n"
          ]
        },
        {
          "output_type": "stream",
          "name": "stderr",
          "text": [
            "       1/50      14.4G      2.278      5.197      1.313        198       1280: 100%|██████████| 12/12 [00:58<00:00,  4.88s/it]\n",
            "                 Class     Images  Instances      Box(P          R      mAP50  mAP50-95): 100%|██████████| 1/1 [00:01<00:00,  1.58s/it]"
          ]
        },
        {
          "output_type": "stream",
          "name": "stdout",
          "text": [
            "                   all         24        393   0.000556     0.0102    0.00718     0.0035\n"
          ]
        },
        {
          "output_type": "stream",
          "name": "stderr",
          "text": [
            "\n"
          ]
        },
        {
          "output_type": "stream",
          "name": "stdout",
          "text": [
            "\n",
            "      Epoch    GPU_mem   box_loss   cls_loss   dfl_loss  Instances       Size\n"
          ]
        },
        {
          "output_type": "stream",
          "name": "stderr",
          "text": [
            "       2/50      11.3G      2.054       3.67      1.121        165       1280: 100%|██████████| 12/12 [00:14<00:00,  1.24s/it]\n",
            "                 Class     Images  Instances      Box(P          R      mAP50  mAP50-95): 100%|██████████| 1/1 [00:01<00:00,  1.27s/it]"
          ]
        },
        {
          "output_type": "stream",
          "name": "stdout",
          "text": [
            "                   all         24        393   0.000278    0.00509    0.00514    0.00205\n"
          ]
        },
        {
          "output_type": "stream",
          "name": "stderr",
          "text": [
            "\n"
          ]
        },
        {
          "output_type": "stream",
          "name": "stdout",
          "text": [
            "\n",
            "      Epoch    GPU_mem   box_loss   cls_loss   dfl_loss  Instances       Size\n"
          ]
        },
        {
          "output_type": "stream",
          "name": "stderr",
          "text": [
            "       3/50      13.8G      2.092      3.361      1.089        154       1280: 100%|██████████| 12/12 [00:14<00:00,  1.23s/it]\n",
            "                 Class     Images  Instances      Box(P          R      mAP50  mAP50-95): 100%|██████████| 1/1 [00:01<00:00,  1.14s/it]"
          ]
        },
        {
          "output_type": "stream",
          "name": "stdout",
          "text": [
            "                   all         24        393   0.000556     0.0102   0.000291   0.000107\n"
          ]
        },
        {
          "output_type": "stream",
          "name": "stderr",
          "text": [
            "\n"
          ]
        },
        {
          "output_type": "stream",
          "name": "stdout",
          "text": [
            "\n",
            "      Epoch    GPU_mem   box_loss   cls_loss   dfl_loss  Instances       Size\n"
          ]
        },
        {
          "output_type": "stream",
          "name": "stderr",
          "text": [
            "       4/50      13.1G      1.909      2.825      1.066        243       1280: 100%|██████████| 12/12 [00:15<00:00,  1.33s/it]\n",
            "                 Class     Images  Instances      Box(P          R      mAP50  mAP50-95): 100%|██████████| 1/1 [00:01<00:00,  1.48s/it]"
          ]
        },
        {
          "output_type": "stream",
          "name": "stdout",
          "text": [
            "                   all         24        393    0.00611      0.112    0.00541    0.00237\n"
          ]
        },
        {
          "output_type": "stream",
          "name": "stderr",
          "text": [
            "\n"
          ]
        },
        {
          "output_type": "stream",
          "name": "stdout",
          "text": [
            "\n",
            "      Epoch    GPU_mem   box_loss   cls_loss   dfl_loss  Instances       Size\n"
          ]
        },
        {
          "output_type": "stream",
          "name": "stderr",
          "text": [
            "       5/50      14.7G      1.921      2.763      1.066         67       1280: 100%|██████████| 12/12 [00:16<00:00,  1.40s/it]\n",
            "                 Class     Images  Instances      Box(P          R      mAP50  mAP50-95): 100%|██████████| 1/1 [00:01<00:00,  1.40s/it]"
          ]
        },
        {
          "output_type": "stream",
          "name": "stdout",
          "text": [
            "                   all         24        393    0.00958      0.176     0.0104    0.00456\n"
          ]
        },
        {
          "output_type": "stream",
          "name": "stderr",
          "text": [
            "\n"
          ]
        },
        {
          "output_type": "stream",
          "name": "stdout",
          "text": [
            "\n",
            "      Epoch    GPU_mem   box_loss   cls_loss   dfl_loss  Instances       Size\n"
          ]
        },
        {
          "output_type": "stream",
          "name": "stderr",
          "text": [
            "       6/50      15.2G      2.028      2.845      1.083        116       1280: 100%|██████████| 12/12 [00:13<00:00,  1.15s/it]\n",
            "                 Class     Images  Instances      Box(P          R      mAP50  mAP50-95): 100%|██████████| 1/1 [00:02<00:00,  2.10s/it]"
          ]
        },
        {
          "output_type": "stream",
          "name": "stdout",
          "text": [
            "                   all         24        393     0.0129      0.237      0.018    0.00743\n"
          ]
        },
        {
          "output_type": "stream",
          "name": "stderr",
          "text": [
            "\n"
          ]
        },
        {
          "output_type": "stream",
          "name": "stdout",
          "text": [
            "\n",
            "      Epoch    GPU_mem   box_loss   cls_loss   dfl_loss  Instances       Size\n"
          ]
        },
        {
          "output_type": "stream",
          "name": "stderr",
          "text": [
            "       7/50      12.5G       2.02      2.735      1.087         47       1280: 100%|██████████| 12/12 [00:15<00:00,  1.26s/it]\n",
            "                 Class     Images  Instances      Box(P          R      mAP50  mAP50-95): 100%|██████████| 1/1 [00:01<00:00,  1.84s/it]"
          ]
        },
        {
          "output_type": "stream",
          "name": "stdout",
          "text": [
            "                   all         24        393      0.714     0.0318     0.0753     0.0288\n"
          ]
        },
        {
          "output_type": "stream",
          "name": "stderr",
          "text": [
            "\n"
          ]
        },
        {
          "output_type": "stream",
          "name": "stdout",
          "text": [
            "\n",
            "      Epoch    GPU_mem   box_loss   cls_loss   dfl_loss  Instances       Size\n"
          ]
        },
        {
          "output_type": "stream",
          "name": "stderr",
          "text": [
            "       8/50      12.8G      1.978      2.615      1.078        150       1280: 100%|██████████| 12/12 [00:15<00:00,  1.26s/it]\n",
            "                 Class     Images  Instances      Box(P          R      mAP50  mAP50-95): 100%|██████████| 1/1 [00:02<00:00,  2.06s/it]"
          ]
        },
        {
          "output_type": "stream",
          "name": "stdout",
          "text": [
            "                   all         24        393      0.445      0.117      0.125     0.0506\n"
          ]
        },
        {
          "output_type": "stream",
          "name": "stderr",
          "text": [
            "\n"
          ]
        },
        {
          "output_type": "stream",
          "name": "stdout",
          "text": [
            "\n",
            "      Epoch    GPU_mem   box_loss   cls_loss   dfl_loss  Instances       Size\n"
          ]
        },
        {
          "output_type": "stream",
          "name": "stderr",
          "text": [
            "       9/50        11G      1.894      2.424      1.073        184       1280: 100%|██████████| 12/12 [00:17<00:00,  1.42s/it]\n",
            "                 Class     Images  Instances      Box(P          R      mAP50  mAP50-95): 100%|██████████| 1/1 [00:02<00:00,  2.75s/it]"
          ]
        },
        {
          "output_type": "stream",
          "name": "stdout",
          "text": [
            "                   all         24        393      0.321      0.216      0.147     0.0607\n"
          ]
        },
        {
          "output_type": "stream",
          "name": "stderr",
          "text": [
            "\n"
          ]
        },
        {
          "output_type": "stream",
          "name": "stdout",
          "text": [
            "\n",
            "      Epoch    GPU_mem   box_loss   cls_loss   dfl_loss  Instances       Size\n"
          ]
        },
        {
          "output_type": "stream",
          "name": "stderr",
          "text": [
            "      10/50      13.1G      1.845      2.285      1.078        147       1280: 100%|██████████| 12/12 [00:15<00:00,  1.26s/it]\n",
            "                 Class     Images  Instances      Box(P          R      mAP50  mAP50-95): 100%|██████████| 1/1 [00:01<00:00,  1.81s/it]"
          ]
        },
        {
          "output_type": "stream",
          "name": "stdout",
          "text": [
            "                   all         24        393      0.309      0.176      0.139     0.0587\n"
          ]
        },
        {
          "output_type": "stream",
          "name": "stderr",
          "text": [
            "\n"
          ]
        },
        {
          "output_type": "stream",
          "name": "stdout",
          "text": [
            "\n",
            "      Epoch    GPU_mem   box_loss   cls_loss   dfl_loss  Instances       Size\n"
          ]
        },
        {
          "output_type": "stream",
          "name": "stderr",
          "text": [
            "      11/50      14.7G      1.837      2.075      1.051         71       1280: 100%|██████████| 12/12 [00:19<00:00,  1.65s/it]\n",
            "                 Class     Images  Instances      Box(P          R      mAP50  mAP50-95): 100%|██████████| 1/1 [00:02<00:00,  2.44s/it]"
          ]
        },
        {
          "output_type": "stream",
          "name": "stdout",
          "text": [
            "                   all         24        393      0.386      0.209      0.146     0.0625\n"
          ]
        },
        {
          "output_type": "stream",
          "name": "stderr",
          "text": [
            "\n"
          ]
        },
        {
          "output_type": "stream",
          "name": "stdout",
          "text": [
            "\n",
            "      Epoch    GPU_mem   box_loss   cls_loss   dfl_loss  Instances       Size\n"
          ]
        },
        {
          "output_type": "stream",
          "name": "stderr",
          "text": [
            "      12/50      13.1G      1.871       1.99      1.048        106       1280: 100%|██████████| 12/12 [00:24<00:00,  2.01s/it]\n",
            "                 Class     Images  Instances      Box(P          R      mAP50  mAP50-95): 100%|██████████| 1/1 [00:01<00:00,  1.34s/it]"
          ]
        },
        {
          "output_type": "stream",
          "name": "stdout",
          "text": [
            "                   all         24        393      0.365      0.198       0.17     0.0736\n"
          ]
        },
        {
          "output_type": "stream",
          "name": "stderr",
          "text": [
            "\n"
          ]
        },
        {
          "output_type": "stream",
          "name": "stdout",
          "text": [
            "\n",
            "      Epoch    GPU_mem   box_loss   cls_loss   dfl_loss  Instances       Size\n"
          ]
        },
        {
          "output_type": "stream",
          "name": "stderr",
          "text": [
            "      13/50      11.6G      1.845      2.074      1.035         61       1280: 100%|██████████| 12/12 [00:21<00:00,  1.79s/it]\n",
            "                 Class     Images  Instances      Box(P          R      mAP50  mAP50-95): 100%|██████████| 1/1 [00:01<00:00,  1.12s/it]"
          ]
        },
        {
          "output_type": "stream",
          "name": "stdout",
          "text": [
            "                   all         24        393       0.21      0.206     0.0826     0.0326\n"
          ]
        },
        {
          "output_type": "stream",
          "name": "stderr",
          "text": [
            "\n"
          ]
        },
        {
          "output_type": "stream",
          "name": "stdout",
          "text": [
            "\n",
            "      Epoch    GPU_mem   box_loss   cls_loss   dfl_loss  Instances       Size\n"
          ]
        },
        {
          "output_type": "stream",
          "name": "stderr",
          "text": [
            "      14/50        14G      1.748      1.899      1.059        187       1280: 100%|██████████| 12/12 [00:23<00:00,  1.95s/it]\n",
            "                 Class     Images  Instances      Box(P          R      mAP50  mAP50-95): 100%|██████████| 1/1 [00:01<00:00,  1.38s/it]"
          ]
        },
        {
          "output_type": "stream",
          "name": "stdout",
          "text": [
            "                   all         24        393      0.133      0.193     0.0492       0.02\n"
          ]
        },
        {
          "output_type": "stream",
          "name": "stderr",
          "text": [
            "\n"
          ]
        },
        {
          "output_type": "stream",
          "name": "stdout",
          "text": [
            "\n",
            "      Epoch    GPU_mem   box_loss   cls_loss   dfl_loss  Instances       Size\n"
          ]
        },
        {
          "output_type": "stream",
          "name": "stderr",
          "text": [
            "      15/50        13G      1.866      1.846      1.053        122       1280: 100%|██████████| 12/12 [00:20<00:00,  1.73s/it]\n",
            "                 Class     Images  Instances      Box(P          R      mAP50  mAP50-95): 100%|██████████| 1/1 [00:01<00:00,  1.59s/it]"
          ]
        },
        {
          "output_type": "stream",
          "name": "stdout",
          "text": [
            "                   all         24        393      0.288      0.221      0.129     0.0551\n"
          ]
        },
        {
          "output_type": "stream",
          "name": "stderr",
          "text": [
            "\n"
          ]
        },
        {
          "output_type": "stream",
          "name": "stdout",
          "text": [
            "\n",
            "      Epoch    GPU_mem   box_loss   cls_loss   dfl_loss  Instances       Size\n"
          ]
        },
        {
          "output_type": "stream",
          "name": "stderr",
          "text": [
            "      16/50      12.1G      1.917      1.916      1.031        101       1280: 100%|██████████| 12/12 [00:25<00:00,  2.10s/it]\n",
            "                 Class     Images  Instances      Box(P          R      mAP50  mAP50-95): 100%|██████████| 1/1 [00:01<00:00,  1.59s/it]"
          ]
        },
        {
          "output_type": "stream",
          "name": "stdout",
          "text": [
            "                   all         24        393       0.39      0.214      0.174     0.0761\n"
          ]
        },
        {
          "output_type": "stream",
          "name": "stderr",
          "text": [
            "\n"
          ]
        },
        {
          "output_type": "stream",
          "name": "stdout",
          "text": [
            "\n",
            "      Epoch    GPU_mem   box_loss   cls_loss   dfl_loss  Instances       Size\n"
          ]
        },
        {
          "output_type": "stream",
          "name": "stderr",
          "text": [
            "      17/50      13.1G      1.751      1.748      1.025        180       1280: 100%|██████████| 12/12 [00:25<00:00,  2.09s/it]\n",
            "                 Class     Images  Instances      Box(P          R      mAP50  mAP50-95): 100%|██████████| 1/1 [00:01<00:00,  1.50s/it]"
          ]
        },
        {
          "output_type": "stream",
          "name": "stdout",
          "text": [
            "                   all         24        393      0.375      0.244      0.191     0.0826\n"
          ]
        },
        {
          "output_type": "stream",
          "name": "stderr",
          "text": [
            "\n"
          ]
        },
        {
          "output_type": "stream",
          "name": "stdout",
          "text": [
            "\n",
            "      Epoch    GPU_mem   box_loss   cls_loss   dfl_loss  Instances       Size\n"
          ]
        },
        {
          "output_type": "stream",
          "name": "stderr",
          "text": [
            "      18/50      13.1G       1.77      1.708       1.04        101       1280: 100%|██████████| 12/12 [00:27<00:00,  2.26s/it]\n",
            "                 Class     Images  Instances      Box(P          R      mAP50  mAP50-95): 100%|██████████| 1/1 [00:01<00:00,  1.71s/it]"
          ]
        },
        {
          "output_type": "stream",
          "name": "stdout",
          "text": [
            "                   all         24        393      0.368       0.26      0.196     0.0748\n"
          ]
        },
        {
          "output_type": "stream",
          "name": "stderr",
          "text": [
            "\n"
          ]
        },
        {
          "output_type": "stream",
          "name": "stdout",
          "text": [
            "\n",
            "      Epoch    GPU_mem   box_loss   cls_loss   dfl_loss  Instances       Size\n"
          ]
        },
        {
          "output_type": "stream",
          "name": "stderr",
          "text": [
            "      19/50      14.6G      1.835      1.783      1.045        162       1280: 100%|██████████| 12/12 [00:19<00:00,  1.61s/it]\n",
            "                 Class     Images  Instances      Box(P          R      mAP50  mAP50-95): 100%|██████████| 1/1 [00:01<00:00,  1.62s/it]"
          ]
        },
        {
          "output_type": "stream",
          "name": "stdout",
          "text": [
            "                   all         24        393      0.351      0.277      0.198     0.0848\n"
          ]
        },
        {
          "output_type": "stream",
          "name": "stderr",
          "text": [
            "\n"
          ]
        },
        {
          "output_type": "stream",
          "name": "stdout",
          "text": [
            "\n",
            "      Epoch    GPU_mem   box_loss   cls_loss   dfl_loss  Instances       Size\n"
          ]
        },
        {
          "output_type": "stream",
          "name": "stderr",
          "text": [
            "      20/50      13.2G       1.81      1.651      1.019        109       1280: 100%|██████████| 12/12 [00:21<00:00,  1.78s/it]\n",
            "                 Class     Images  Instances      Box(P          R      mAP50  mAP50-95): 100%|██████████| 1/1 [00:01<00:00,  1.42s/it]"
          ]
        },
        {
          "output_type": "stream",
          "name": "stdout",
          "text": [
            "                   all         24        393      0.385      0.282      0.216      0.086\n"
          ]
        },
        {
          "output_type": "stream",
          "name": "stderr",
          "text": [
            "\n"
          ]
        },
        {
          "output_type": "stream",
          "name": "stdout",
          "text": [
            "\n",
            "      Epoch    GPU_mem   box_loss   cls_loss   dfl_loss  Instances       Size\n"
          ]
        },
        {
          "output_type": "stream",
          "name": "stderr",
          "text": [
            "      21/50      13.5G      1.742      1.446      1.001        145       1280: 100%|██████████| 12/12 [00:23<00:00,  1.98s/it]\n",
            "                 Class     Images  Instances      Box(P          R      mAP50  mAP50-95): 100%|██████████| 1/1 [00:01<00:00,  1.38s/it]"
          ]
        },
        {
          "output_type": "stream",
          "name": "stdout",
          "text": [
            "                   all         24        393        0.4       0.31      0.238      0.104\n"
          ]
        },
        {
          "output_type": "stream",
          "name": "stderr",
          "text": [
            "\n"
          ]
        },
        {
          "output_type": "stream",
          "name": "stdout",
          "text": [
            "\n",
            "      Epoch    GPU_mem   box_loss   cls_loss   dfl_loss  Instances       Size\n"
          ]
        },
        {
          "output_type": "stream",
          "name": "stderr",
          "text": [
            "      22/50        13G      1.796      1.629      1.015         79       1280: 100%|██████████| 12/12 [00:35<00:00,  2.94s/it]\n",
            "                 Class     Images  Instances      Box(P          R      mAP50  mAP50-95): 100%|██████████| 1/1 [00:01<00:00,  1.36s/it]"
          ]
        },
        {
          "output_type": "stream",
          "name": "stdout",
          "text": [
            "                   all         24        393       0.39      0.242        0.2      0.087\n"
          ]
        },
        {
          "output_type": "stream",
          "name": "stderr",
          "text": [
            "\n"
          ]
        },
        {
          "output_type": "stream",
          "name": "stdout",
          "text": [
            "\n",
            "      Epoch    GPU_mem   box_loss   cls_loss   dfl_loss  Instances       Size\n"
          ]
        },
        {
          "output_type": "stream",
          "name": "stderr",
          "text": [
            "      23/50      13.2G       1.75      1.503      1.003         95       1280: 100%|██████████| 12/12 [00:33<00:00,  2.77s/it]\n",
            "                 Class     Images  Instances      Box(P          R      mAP50  mAP50-95): 100%|██████████| 1/1 [00:01<00:00,  1.58s/it]"
          ]
        },
        {
          "output_type": "stream",
          "name": "stdout",
          "text": [
            "                   all         24        393      0.422       0.27      0.221      0.101\n"
          ]
        },
        {
          "output_type": "stream",
          "name": "stderr",
          "text": [
            "\n"
          ]
        },
        {
          "output_type": "stream",
          "name": "stdout",
          "text": [
            "\n",
            "      Epoch    GPU_mem   box_loss   cls_loss   dfl_loss  Instances       Size\n"
          ]
        },
        {
          "output_type": "stream",
          "name": "stderr",
          "text": [
            "      24/50      12.4G      1.671      1.453       1.02        106       1280: 100%|██████████| 12/12 [00:25<00:00,  2.15s/it]\n",
            "                 Class     Images  Instances      Box(P          R      mAP50  mAP50-95): 100%|██████████| 1/1 [00:01<00:00,  1.35s/it]"
          ]
        },
        {
          "output_type": "stream",
          "name": "stdout",
          "text": [
            "                   all         24        393      0.405      0.279       0.21     0.0887\n"
          ]
        },
        {
          "output_type": "stream",
          "name": "stderr",
          "text": [
            "\n"
          ]
        },
        {
          "output_type": "stream",
          "name": "stdout",
          "text": [
            "\n",
            "      Epoch    GPU_mem   box_loss   cls_loss   dfl_loss  Instances       Size\n"
          ]
        },
        {
          "output_type": "stream",
          "name": "stderr",
          "text": [
            "      25/50       9.8G      1.757      1.496       1.01        121       1280: 100%|██████████| 12/12 [00:21<00:00,  1.76s/it]\n",
            "                 Class     Images  Instances      Box(P          R      mAP50  mAP50-95): 100%|██████████| 1/1 [00:01<00:00,  1.08s/it]"
          ]
        },
        {
          "output_type": "stream",
          "name": "stdout",
          "text": [
            "                   all         24        393      0.347       0.26      0.189     0.0819\n"
          ]
        },
        {
          "output_type": "stream",
          "name": "stderr",
          "text": [
            "\n"
          ]
        },
        {
          "output_type": "stream",
          "name": "stdout",
          "text": [
            "\n",
            "      Epoch    GPU_mem   box_loss   cls_loss   dfl_loss  Instances       Size\n"
          ]
        },
        {
          "output_type": "stream",
          "name": "stderr",
          "text": [
            "      26/50      13.8G       1.65      1.437      1.015        234       1280: 100%|██████████| 12/12 [00:27<00:00,  2.29s/it]\n",
            "                 Class     Images  Instances      Box(P          R      mAP50  mAP50-95): 100%|██████████| 1/1 [00:08<00:00,  8.88s/it]"
          ]
        },
        {
          "output_type": "stream",
          "name": "stdout",
          "text": [
            "                   all         24        393      0.345       0.29      0.207     0.0861\n"
          ]
        },
        {
          "output_type": "stream",
          "name": "stderr",
          "text": [
            "\n"
          ]
        },
        {
          "output_type": "stream",
          "name": "stdout",
          "text": [
            "\n",
            "      Epoch    GPU_mem   box_loss   cls_loss   dfl_loss  Instances       Size\n"
          ]
        },
        {
          "output_type": "stream",
          "name": "stderr",
          "text": [
            "      27/50      13.6G      1.667      1.436      1.009        263       1280: 100%|██████████| 12/12 [00:19<00:00,  1.62s/it]\n",
            "                 Class     Images  Instances      Box(P          R      mAP50  mAP50-95): 100%|██████████| 1/1 [00:01<00:00,  1.44s/it]"
          ]
        },
        {
          "output_type": "stream",
          "name": "stdout",
          "text": [
            "                   all         24        393      0.361      0.277      0.205     0.0902\n"
          ]
        },
        {
          "output_type": "stream",
          "name": "stderr",
          "text": [
            "\n"
          ]
        },
        {
          "output_type": "stream",
          "name": "stdout",
          "text": [
            "\n",
            "      Epoch    GPU_mem   box_loss   cls_loss   dfl_loss  Instances       Size\n"
          ]
        },
        {
          "output_type": "stream",
          "name": "stderr",
          "text": [
            "      28/50      10.4G      1.595      1.369     0.9993        309       1280: 100%|██████████| 12/12 [00:31<00:00,  2.63s/it]\n",
            "                 Class     Images  Instances      Box(P          R      mAP50  mAP50-95): 100%|██████████| 1/1 [00:01<00:00,  1.28s/it]"
          ]
        },
        {
          "output_type": "stream",
          "name": "stdout",
          "text": [
            "                   all         24        393      0.397      0.279      0.216     0.0895\n"
          ]
        },
        {
          "output_type": "stream",
          "name": "stderr",
          "text": [
            "\n"
          ]
        },
        {
          "output_type": "stream",
          "name": "stdout",
          "text": [
            "\n",
            "      Epoch    GPU_mem   box_loss   cls_loss   dfl_loss  Instances       Size\n"
          ]
        },
        {
          "output_type": "stream",
          "name": "stderr",
          "text": [
            "      29/50      15.2G      1.674      1.445      1.005         67       1280: 100%|██████████| 12/12 [00:23<00:00,  1.95s/it]\n",
            "                 Class     Images  Instances      Box(P          R      mAP50  mAP50-95): 100%|██████████| 1/1 [00:01<00:00,  1.49s/it]"
          ]
        },
        {
          "output_type": "stream",
          "name": "stdout",
          "text": [
            "                   all         24        393       0.38      0.285      0.211     0.0922\n"
          ]
        },
        {
          "output_type": "stream",
          "name": "stderr",
          "text": [
            "\n"
          ]
        },
        {
          "output_type": "stream",
          "name": "stdout",
          "text": [
            "\n",
            "      Epoch    GPU_mem   box_loss   cls_loss   dfl_loss  Instances       Size\n"
          ]
        },
        {
          "output_type": "stream",
          "name": "stderr",
          "text": [
            "      30/50      13.8G      1.642      1.371     0.9973        193       1280: 100%|██████████| 12/12 [00:19<00:00,  1.65s/it]\n",
            "                 Class     Images  Instances      Box(P          R      mAP50  mAP50-95): 100%|██████████| 1/1 [00:20<00:00, 20.17s/it]"
          ]
        },
        {
          "output_type": "stream",
          "name": "stdout",
          "text": [
            "                   all         24        393      0.362      0.287      0.209     0.0926\n"
          ]
        },
        {
          "output_type": "stream",
          "name": "stderr",
          "text": [
            "\n"
          ]
        },
        {
          "output_type": "stream",
          "name": "stdout",
          "text": [
            "\n",
            "      Epoch    GPU_mem   box_loss   cls_loss   dfl_loss  Instances       Size\n"
          ]
        },
        {
          "output_type": "stream",
          "name": "stderr",
          "text": [
            "      31/50        14G      1.604      1.367     0.9717         81       1280: 100%|██████████| 12/12 [00:23<00:00,  1.97s/it]\n",
            "                 Class     Images  Instances      Box(P          R      mAP50  mAP50-95): 100%|██████████| 1/1 [00:01<00:00,  1.39s/it]"
          ]
        },
        {
          "output_type": "stream",
          "name": "stdout",
          "text": [
            "                   all         24        393      0.382      0.248       0.21     0.0925\n"
          ]
        },
        {
          "output_type": "stream",
          "name": "stderr",
          "text": [
            "\n"
          ]
        },
        {
          "output_type": "stream",
          "name": "stdout",
          "text": [
            "\n",
            "      Epoch    GPU_mem   box_loss   cls_loss   dfl_loss  Instances       Size\n"
          ]
        },
        {
          "output_type": "stream",
          "name": "stderr",
          "text": [
            "      32/50      15.5G      1.675      1.332     0.9872        133       1280: 100%|██████████| 12/12 [00:34<00:00,  2.87s/it]\n",
            "                 Class     Images  Instances      Box(P          R      mAP50  mAP50-95): 100%|██████████| 1/1 [00:01<00:00,  1.94s/it]"
          ]
        },
        {
          "output_type": "stream",
          "name": "stdout",
          "text": [
            "                   all         24        393      0.413       0.28      0.239      0.102\n"
          ]
        },
        {
          "output_type": "stream",
          "name": "stderr",
          "text": [
            "\n"
          ]
        },
        {
          "output_type": "stream",
          "name": "stdout",
          "text": [
            "\n",
            "      Epoch    GPU_mem   box_loss   cls_loss   dfl_loss  Instances       Size\n"
          ]
        },
        {
          "output_type": "stream",
          "name": "stderr",
          "text": [
            "      33/50      10.8G      1.601      1.347     0.9933        202       1280: 100%|██████████| 12/12 [00:21<00:00,  1.75s/it]\n",
            "                 Class     Images  Instances      Box(P          R      mAP50  mAP50-95): 100%|██████████| 1/1 [00:01<00:00,  1.24s/it]"
          ]
        },
        {
          "output_type": "stream",
          "name": "stdout",
          "text": [
            "                   all         24        393      0.497      0.244      0.237      0.101\n"
          ]
        },
        {
          "output_type": "stream",
          "name": "stderr",
          "text": [
            "\n"
          ]
        },
        {
          "output_type": "stream",
          "name": "stdout",
          "text": [
            "\n",
            "      Epoch    GPU_mem   box_loss   cls_loss   dfl_loss  Instances       Size\n"
          ]
        },
        {
          "output_type": "stream",
          "name": "stderr",
          "text": [
            "      34/50      13.3G      1.616      1.283     0.9981         71       1280: 100%|██████████| 12/12 [00:22<00:00,  1.87s/it]\n",
            "                 Class     Images  Instances      Box(P          R      mAP50  mAP50-95): 100%|██████████| 1/1 [00:13<00:00, 13.80s/it]"
          ]
        },
        {
          "output_type": "stream",
          "name": "stdout",
          "text": [
            "                   all         24        393      0.363      0.303      0.245      0.102\n"
          ]
        },
        {
          "output_type": "stream",
          "name": "stderr",
          "text": [
            "\n"
          ]
        },
        {
          "output_type": "stream",
          "name": "stdout",
          "text": [
            "\n",
            "      Epoch    GPU_mem   box_loss   cls_loss   dfl_loss  Instances       Size\n"
          ]
        },
        {
          "output_type": "stream",
          "name": "stderr",
          "text": [
            "      35/50      13.5G      1.566      1.248     0.9737        140       1280:  83%|████████▎ | 10/12 [00:19<00:04,  2.09s/it]"
          ]
        }
      ]
    },
    {
      "cell_type": "code",
      "source": [],
      "metadata": {
        "id": "ZVNsCvgzc_A2"
      },
      "execution_count": null,
      "outputs": []
    }
  ]
}